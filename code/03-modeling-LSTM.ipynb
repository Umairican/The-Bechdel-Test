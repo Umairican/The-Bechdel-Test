{
 "cells": [
  {
   "cell_type": "markdown",
   "id": "transsexual-olive",
   "metadata": {},
   "source": [
    "# Using Neural Networks To Solve The Problem\n",
    "\n",
    "The below code has been adapted from [this article](https://machinelearningmastery.com/text-generation-lstm-recurrent-neural-networks-python-keras/) on text generation with LSTM and [this article](https://towardsdatascience.com/multi-class-text-classification-with-lstm-1590bee1bd17) on classification with LSTM."
   ]
  },
  {
   "cell_type": "code",
   "execution_count": null,
   "id": "combined-signal",
   "metadata": {},
   "outputs": [],
   "source": [
    "#Let's suppress the matplotlib deprecation warning here\n",
    "import warnings\n",
    "warnings.filterwarnings(\"ignore\")\n",
    "\n",
    "# Gotta bring some mates\n",
    "import numpy as np\n",
    "import pandas as pd\n",
    "import matplotlib.pyplot as plt\n",
    "import seaborn as sns\n",
    "import pickle as pkl\n",
    "\n",
    "from keras.models import Sequential\n",
    "from keras.layers import Dense\n",
    "from keras.layers import Dropout\n",
    "from keras.layers import LSTM\n",
    "from keras.callbacks import ModelCheckpoint\n",
    "from keras.utils import np_utils\n",
    "from keras.preprocessing.text import Tokenizer\n",
    "from keras.preprocessing.sequence import pad_sequences\n",
    "from keras.layers.embeddings import Embedding\n",
    "from keras.layers import Dense, Flatten, LSTM, Conv1D, MaxPooling1D, Dropout, Activation, SpatialDropout1D\n",
    "from keras.callbacks import EarlyStopping\n",
    "\n",
    "import re\n",
    "from spacy.lang.en.stop_words import STOP_WORDS\n",
    "import spacy\n",
    "\n",
    "from sklearn.model_selection import train_test_split"
   ]
  },
  {
   "cell_type": "code",
   "execution_count": null,
   "id": "hungarian-headline",
   "metadata": {},
   "outputs": [],
   "source": [
    "nlp = spacy.load(\"en_core_web_lg\")"
   ]
  },
  {
   "cell_type": "code",
   "execution_count": 3,
   "id": "suburban-bidding",
   "metadata": {},
   "outputs": [
    {
     "data": {
      "text/html": [
       "<div>\n",
       "<style scoped>\n",
       "    .dataframe tbody tr th:only-of-type {\n",
       "        vertical-align: middle;\n",
       "    }\n",
       "\n",
       "    .dataframe tbody tr th {\n",
       "        vertical-align: top;\n",
       "    }\n",
       "\n",
       "    .dataframe thead th {\n",
       "        text-align: right;\n",
       "    }\n",
       "</style>\n",
       "<table border=\"1\" class=\"dataframe\">\n",
       "  <thead>\n",
       "    <tr style=\"text-align: right;\">\n",
       "      <th></th>\n",
       "      <th>Unnamed: 0</th>\n",
       "      <th>title</th>\n",
       "      <th>script</th>\n",
       "      <th>simple_bechdel</th>\n",
       "      <th>women</th>\n",
       "      <th>men</th>\n",
       "    </tr>\n",
       "  </thead>\n",
       "  <tbody>\n",
       "    <tr>\n",
       "      <th>0</th>\n",
       "      <td>0</td>\n",
       "      <td>warrior</td>\n",
       "      <td>WARRIOR       ...</td>\n",
       "      <td>0</td>\n",
       "      <td>13</td>\n",
       "      <td>43</td>\n",
       "    </tr>\n",
       "    <tr>\n",
       "      <th>1</th>\n",
       "      <td>1</td>\n",
       "      <td>collateral</td>\n",
       "      <td>COLLA...</td>\n",
       "      <td>0</td>\n",
       "      <td>8</td>\n",
       "      <td>30</td>\n",
       "    </tr>\n",
       "    <tr>\n",
       "      <th>2</th>\n",
       "      <td>6</td>\n",
       "      <td>gamer</td>\n",
       "      <td>GAMER           ...</td>\n",
       "      <td>0</td>\n",
       "      <td>24</td>\n",
       "      <td>38</td>\n",
       "    </tr>\n",
       "    <tr>\n",
       "      <th>3</th>\n",
       "      <td>7</td>\n",
       "      <td>wanted</td>\n",
       "      <td>WANTED      ...</td>\n",
       "      <td>0</td>\n",
       "      <td>7</td>\n",
       "      <td>17</td>\n",
       "    </tr>\n",
       "    <tr>\n",
       "      <th>4</th>\n",
       "      <td>8</td>\n",
       "      <td>2001: a space odyssey</td>\n",
       "      <td>2001: A SPACE ODYSSEY     Screenplay    by...</td>\n",
       "      <td>0</td>\n",
       "      <td>9</td>\n",
       "      <td>19</td>\n",
       "    </tr>\n",
       "  </tbody>\n",
       "</table>\n",
       "</div>"
      ],
      "text/plain": [
       "   Unnamed: 0                  title  \\\n",
       "0           0                warrior   \n",
       "1           1             collateral   \n",
       "2           6                  gamer   \n",
       "3           7                 wanted   \n",
       "4           8  2001: a space odyssey   \n",
       "\n",
       "                                              script  simple_bechdel  women  \\\n",
       "0                                  WARRIOR       ...               0     13   \n",
       "1                                           COLLA...               0      8   \n",
       "2                                GAMER           ...               0     24   \n",
       "3                                    WANTED      ...               0      7   \n",
       "4      2001: A SPACE ODYSSEY     Screenplay    by...               0      9   \n",
       "\n",
       "   men  \n",
       "0   43  \n",
       "1   30  \n",
       "2   38  \n",
       "3   17  \n",
       "4   19  "
      ]
     },
     "execution_count": 3,
     "metadata": {},
     "output_type": "execute_result"
    }
   ],
   "source": [
    "df = pd.read_csv('../data/bechdel_script_df.csv')\n",
    "df.head()"
   ]
  },
  {
   "cell_type": "code",
   "execution_count": 4,
   "id": "extra-syndrome",
   "metadata": {},
   "outputs": [],
   "source": [
    "df.drop(columns=['Unnamed: 0', 'women', 'men'], axis=1, inplace=True)"
   ]
  },
  {
   "cell_type": "code",
   "execution_count": 5,
   "id": "ceramic-break",
   "metadata": {},
   "outputs": [
    {
     "data": {
      "text/html": [
       "<div>\n",
       "<style scoped>\n",
       "    .dataframe tbody tr th:only-of-type {\n",
       "        vertical-align: middle;\n",
       "    }\n",
       "\n",
       "    .dataframe tbody tr th {\n",
       "        vertical-align: top;\n",
       "    }\n",
       "\n",
       "    .dataframe thead th {\n",
       "        text-align: right;\n",
       "    }\n",
       "</style>\n",
       "<table border=\"1\" class=\"dataframe\">\n",
       "  <thead>\n",
       "    <tr style=\"text-align: right;\">\n",
       "      <th></th>\n",
       "      <th>title</th>\n",
       "      <th>script</th>\n",
       "      <th>simple_bechdel</th>\n",
       "    </tr>\n",
       "  </thead>\n",
       "  <tbody>\n",
       "    <tr>\n",
       "      <th>0</th>\n",
       "      <td>warrior</td>\n",
       "      <td>WARRIOR       ...</td>\n",
       "      <td>0</td>\n",
       "    </tr>\n",
       "    <tr>\n",
       "      <th>1</th>\n",
       "      <td>collateral</td>\n",
       "      <td>COLLA...</td>\n",
       "      <td>0</td>\n",
       "    </tr>\n",
       "    <tr>\n",
       "      <th>2</th>\n",
       "      <td>gamer</td>\n",
       "      <td>GAMER           ...</td>\n",
       "      <td>0</td>\n",
       "    </tr>\n",
       "    <tr>\n",
       "      <th>3</th>\n",
       "      <td>wanted</td>\n",
       "      <td>WANTED      ...</td>\n",
       "      <td>0</td>\n",
       "    </tr>\n",
       "    <tr>\n",
       "      <th>4</th>\n",
       "      <td>2001: a space odyssey</td>\n",
       "      <td>2001: A SPACE ODYSSEY     Screenplay    by...</td>\n",
       "      <td>0</td>\n",
       "    </tr>\n",
       "  </tbody>\n",
       "</table>\n",
       "</div>"
      ],
      "text/plain": [
       "                   title                                             script  \\\n",
       "0                warrior                                  WARRIOR       ...   \n",
       "1             collateral                                           COLLA...   \n",
       "2                  gamer                                GAMER           ...   \n",
       "3                 wanted                                    WANTED      ...   \n",
       "4  2001: a space odyssey      2001: A SPACE ODYSSEY     Screenplay    by...   \n",
       "\n",
       "   simple_bechdel  \n",
       "0               0  \n",
       "1               0  \n",
       "2               0  \n",
       "3               0  \n",
       "4               0  "
      ]
     },
     "execution_count": 5,
     "metadata": {},
     "output_type": "execute_result"
    }
   ],
   "source": [
    "df.head()"
   ]
  },
  {
   "cell_type": "code",
   "execution_count": 6,
   "id": "productive-pontiac",
   "metadata": {},
   "outputs": [
    {
     "data": {
      "text/plain": [
       "(464, 3)"
      ]
     },
     "execution_count": 6,
     "metadata": {},
     "output_type": "execute_result"
    }
   ],
   "source": [
    "df.shape"
   ]
  },
  {
   "cell_type": "code",
   "execution_count": 7,
   "id": "arctic-railway",
   "metadata": {},
   "outputs": [],
   "source": [
    "df = df.reset_index(drop=True)\n",
    "REPLACE_BY_SPACE_RE = re.compile('[/(){}\\[\\]\\|@,;]')\n",
    "BAD_SYMBOLS_RE = re.compile('[^0-9a-z #+_]')\n",
    "STOPWORDS = spacy.lang.en.stop_words.STOP_WORDS\n",
    "STOPWORDS |= {'ve', 'int', 'ext', 'just', 'don', 'know', 'like', 'day', 'continued', 'got', 'away', 'looks', 'cont',\n",
    "                    'door', 'll', 'night', 'room', 'right', 'look', 'www', 'pdf', 'little', 'house', 'eyes', 'face',\n",
    "                    'screentalk', 'later', 'revs', '03', '10', '12', '21', 'draft', 'screening', 'script', 'revised', 'screenplay'}\n",
    "\n",
    "def clean_script(text):\n",
    "    text = text.lower() # lowercase text\n",
    "    text = REPLACE_BY_SPACE_RE.sub(' ', text) # replace REPLACE_BY_SPACE_RE symbols by space in text. substitute the matched string in REPLACE_BY_SPACE_RE with space.\n",
    "    text = BAD_SYMBOLS_RE.sub('', text) # remove symbols which are in BAD_SYMBOLS_RE from text. substitute the matched string in BAD_SYMBOLS_RE with nothing. \n",
    "    text = text.replace('x', '')\n",
    "#    text = re.sub(r'\\W+', '', text)\n",
    "    text = ' '.join(word for word in text.split() if word not in STOPWORDS) # remove stopwors from text\n",
    "    return text\n",
    "df['script'] = df['script'].apply(clean_script)\n",
    "df['script'] = df['script'].str.replace('\\d+', '')\n"
   ]
  },
  {
   "cell_type": "markdown",
   "id": "coral-crown",
   "metadata": {},
   "source": [
    "### A quick check on the output"
   ]
  },
  {
   "cell_type": "code",
   "execution_count": 8,
   "id": "judicial-scientist",
   "metadata": {
    "scrolled": true,
    "tags": []
   },
   "outputs": [
    {
     "data": {
      "text/plain": [
       "'coriolanus written william shakespeare john logan darkened blade knife pulled sheath intricate tribal etchings blade catching light blade pulled sharpening stone swoosh swooshswoosh rhythmic wellpracticed hand muscular tattooed arm blade held razor sharp glow tv darkened illumination images tv global urban strife slums barricades poverty starvation demonstrations repression refugee camps barbed wire prisons riot police tear gas violence images settle breaking news food riots rome images protest march crowd filling streets soldiers moving position placards dogs eat meat mouths man sharpening knife watches images cold disinterested stops frozen midstroke tv suddenly rivets longer cold tv shows soldiers highranking officer imperious giving orders come man caius martius coriolanus tullus aufidius man sharpening knife gazes image screen leans forward emerging darkness handsome imposing figure magnetic personality charismatic yes neurotic edgy uncomfortable skin demons watches caius martius tv screen  puts point knife screen caius martius heart holds presses point screen muscles knotting forearm thrust knife screen heart caius martius nemesis dark angel sharp cut et rome street intense woman street nervous checks followed tamora etreme figure political landscape roman elite dangerous anarchist supporters ardent patriot democrat moves rome meico city chechnia el salvador detroit baghdad london rome modern place world immediately recognizable elements classical architecture loom decay monolithic modernism brave public monuments lost sea brazen advertising billboards neon shopping plazas drab superhighways splendor squalor sit sidebyside volatile dangerous world william shakespeares rome comes graffiticovered apartment building enters apartment secret political meeting police state tension cigarette smoke hangs air men women gathered hushed urgent tones cell meeting political opposition resistance tv shows food marches city gathering storm cassius leading proletariat organizer  cassius proceed hear speak resolved die famish agree wildeyed radicals normal people walks life cassius caius martius chief enemy people voice tamora let kill turn tamora entering pulls coat joins tamora corn price verdict unsure etreme cassius pressing slightly accounted poor citizens patricians good leanness afflicts object misery sufferance gain let revenge sticks ere rakes speak hunger bread thirst revenge woman young mother protests young mother proceed especially caius martius cassius college professor speaks college professor consider services country tamora snaps content  tamora contd good report pays proud college professor nay speak maliciously overplayed hand pretends tamora unto hath famously end snarky smile mother laugh gossip tv image switches breaking news update roman senate august press senator moving podium statement senator menenius seasoned wily politician silver hair perfectly tailored suit known folksy man people role plays perfection cassius soft comes college professor worthy senator menenius hath loved people tamora hes honest rest menenius tv masters good friends honest neighbors undo smiles benevolently tell friends charitable care patricians wants suffering dearth strike heavens staves lift roman state  tamora speaking tv suffer famish storehouses crammed grain shush menenius tv alack transported calamity thither attends slander helms state care fathers curse enemies cassius mutes tv senator menenius continuing speech attempt calm dangerous situation cassius care cared tamora wars eat thats love bear growing increasingly restive shifting tension building cassius stay prating tamora talking capitol come come cut et streets tamora cassius midst protest march crowd mob life crowd surges forward round corner suddenly stop formidable sight awaits riot police rows black uniforms riot gear pleiglass shields dangerous truncheons  soldiers horses crowd starts shifts nervously unsure proceed launch monolithic military force long tense beat horsemen trots forward rides beautiful white horse caius martius soon given honorary title coriolanus intense patrician uncompromising man steel soldier wears crisp military uniform position horse martius rioters gaze ice long beat dismounts slowly walks unruly mob hesitation unarmed stops speaks absolute disdain martius whats matter dissentious rogues rubbing poor itch opinion scabs cassius sarcastic good word martius snaps good words thee flatter beneath abhorring crowd hushed taking word  note tv news crew moved position filming eagerly crowd film cell phone cameras streaming video intercut perspectives martius curs trusts find lions finds hares foes geese walks crowd frightened great martius awed glare loathing martius deserves greatness deserves hate hang ye trust ye minute change mind noble hate vile garland continues crowd cold taking martius whats matter places city cry noble senate gods awe feed stops glares mob seething anger climbs horse stares ultimatum martius home fragments tense beat riot police shift nervously crowd unsure tv news crew films  cassius sees police ready tear gas sees old men women children crowd doesnt want eplode echanges whispers works tamora word passed crowd begins disperse run panic walk danger passed senator menenius watching nearby gestures martius join old family friend martius mentor chief political advisor menenius relieved bloodshed avoided menenius thoroughly persuaded abundantly lack discretion passing cowardly martius dissolved hang em senator menenius watches crowd disturbed menenius abed martius tiber darkened tv image martius railing people martius tv home fragments tullus aufidius leaning watching closely pov piilated closeup martius screen runs knife blade forth turns light reflection martius distorting rotates blade  aufidius leans shadows disappearing et military command center romes military headquarters high security building pentagon roman war martius seated military officers aides titus younger martius old friend comradeinarms martius seen lot battle cominius older general enters eperienced commander men dealing necessary politics civilian oversight west point bearing salute cominius returns salute cominius news volsces arms aide presses remote grainy video images play monitor volscian soldiers jeeps tanks section shows quick image rebel leader striking man called tullus aufidius riding past jeep cominius leader tullus aufidius martius sin envying nobility thing wish senator fought martius lion proud hunt martius takes remote control stops video rewinds unclear image aufidius martius titus lartius thou shalt strike tullus titus lead martius rewinds plays image aufidius rewinds plays obsessively push video image aufidius aufidius appears staring martius takes apartment buildingwar aufidius leader rebel volscian forces stands deep thought volsces insurgent force challenging monolithic rome rebels suggest latin american revolutionaries hamas fighters chechnian separatists dangerous guerilla force volsce war old apartment building basement windows secure officers civilian politicians filled military maps weapons surveillance photos volsce politician opinion aufidius rome entered counsels proceed aufidius snaps tis days gone heard volsce officer doubt rome ready answer  volsce politician rumored martius old enemy leads preparation tosses glossy magazine desk picture martius cover aufidius spark image martius picks magazine carefully tears cover picture martius looking picture deeply continues strange grim fire aufidius caius martius chance meet tis sworn shall strike till elements meet beard beard hes et martius villa beautiful butterfly catching light perfectly iridescent floats palatial mansion suburbs great city manicured lawns formal gardens classical architectural lines fine home aristocratic privilege world urban blight rome immaculate gardens young martius martius son playing boy grim lonely charm young martius chases butterfly trying catch fails butterfly flits young martius leaps misses finally frustrated boy manages catch butterfly rage tears pieces brutally shredding realize observed martius villa living virgilia martius wife stands window disturbed sight son ripping apart butterfly sees young martius stop tiny bit blood fingers young martius unmoved glances locks mother turns virgilia wellchosen role wife romes aristocratic men beautiful graceful diana thrown lions den windsor family woefully depth feel inner fragility spacious elegantly appointed lovely roman statue corner place wealth order control fine flatscreen tv flickers images war helicopters zooming desert landscape imbedded war correspondents tanks combat romans volscians volumnia martius mother stands watches tv imposing woman handsome tall impeccably dressed adamantine strength virgilia moves window sits sofa watches tv news footage war upset images frozen silence volumnia pray daughter sing epress comfortable sort son husband freely rejoice absence won honor embracements bed love moves fetch cigarette moves stately grace walks past series photographs tell story martius life happy baby stern dead father rigid young military cadet formal wedding restrained unsmiling adult photos sense transformation innocent boy eperienced severe looking soldier volumnia present pictures  volumnia tenderbodied son womb considering honor person pleased let seek danger find fame lights cigarette volumnia cruel war sent returned brows bound oak virgilia died business madam volumnia good report son rivets virgilia dozen sons die nobly country voluptuously surfeit action maid enters speaks volumnia true mistress virgilia maid madam senator menenius come visit volumnia tell menenius fit bid welcome maid goes virgilia beseech leave retire volumnia shall turns tv goes bar mi drinks mies drinks aggressively strangely inspired discussion war volumnia methinks hear hither husbands drum methinks stamp  volumnia contd come cowards fear born rome bloody brow wiping forth goes virgilia bloody brow  jupiter blood volumnia fool man gold trophy virgilia heavens bless lord fell auf idius volumnia hell beat aufidius head knee tread neck senator menenius enters comfortable old ally volumnias menenius ladies good volumnia hands drinks miing perfect martini knows takes drink flirting suits ends menenius virgilia son virgilia thank sir good volumnia play swords hear drum schoolmaster menenius word fathers son volumnia laugh menenius sensed virgilias tension tries cheer menenius come play idle housewife afternoon  virgilia good sir doors menenius doors volumnia shall shall virgilia patience ill threshold till lord return wars menenius fie confine unreasonably virgilia hither menenius playfully penelope yarn spun ulysses absence fill ithaca moths virgilia good sir pardon forth menenius ill tell ecellent news husband virgilia  good sir menenius came news volumnia pounces moving volumnia menenius lord titus lartius set volscian city corioles doubt prevailing brief wars true honor pray  virgilia declining ecuse good sir obey volumnia snaps let disease better mirth takes menenius arm pulls eager news son virgilia sits beat presses button remote control tv goes news reports war images volscian town corioles breaking news scroll runs screen battle corioles virgilia watches war footage haunted hard cut et corioles blam blam blam series eplosions jolt corioles small urban center smoke billows areas city steady crack rattle gunfire occasional thud eplosions urban streettostreet fighting images startling familiarity basra belfast battle photographed gritty eposure color drained blood darker red oil soldiers dark forms moving shadows smoke martius titus leading platoon roman soldiers run view cover bullets zip snap roman soldiers wear modern battle fatigues body armor tricked latest tech gear volscians poor guerilla force wear thrown uniforms tribal martius calls incessant din battle titus soldiers  martius fear issue forth city sniper bullets slam wall near coughs smoke debris makes angry martius disdain thoughts makes sweat wrath retires ill volsce shall feel edge martius leaps races follow military order roman soldiers street chaotic eplosions smoke sniper fire duck doorways abandoned cars returning fire best martius leads firing stead bursts machine gun slow bloody going finally romans turn corner stopped roadblock burning bus fills entire street volsces use roadblock ambush roman soldiers glimpses volscian soldiers darting position firing rooftops inside shops blistering crossfire blasted hotel aufidius runs blasted hotel soldiers goes window scans street sees martius trapped bus gestures aide radio et coriolesstreet crossfire roman soldiers start falling martius refuses yield pushing shoving men burning bus screaming fury noise  martius souls geese bear shapes men pluto hell hurt backs red faces pale flight agued fear mend charge home fires heaven ill leave foe wars eplosion dirt brick shards slash martius blood pushes fury white rage martius come follow leaves soldiers moves burning bus fights way flames martius world doesnt realize sort killing machine shark moving ocean ruthless efficient warrior martius pov disorienting curtains smoke continue street firing heavy machine gun volscian soldiers contort die torn pieces bullets heavy machine gun drop use sidearm firing strategic shots volscian soldiers dart fire die moving steadily forward shadowy shapes moving nearby fire killing civilians fortunes war  strange surreal images smash old man crouches terrified corner reaches forward offering water act kindness amid carnage panicked civilians scattering terror volscian soldiers rush attacking slam aside duck roll car emerge fire volscians die continue forward pistol drop pull machetelike knife moving relentlessly forward slashing killing handtohand carnage et coriolesalley aufidius aides racing alley trying martius roman fire stops return fire divert alley trying better strategic position running flat et corioles titus soldiers pinned burning bus soldiers race titus report dive cover titus martius soldier  slain sir doubtless soldier  answer city  titus thou art lost martius titus time mourn hopeless situation scanning rooftops windows shops stops sees past burning bus smoke flames glimpses ghostly figure titus whos yonder appear flayed  gods stamp martius martius shocking sight drenched headtotoe blood splattered gore wild lost rapture martius come late come late titus ay come blood mantled martius laughs wildly embraces titus comes splattered blood martius  let clip ye arms sound wooed heart merry nuptial suddenly deafening eplosion rpg eploding nearby gunfire bullets shatter windows volscians attacking romans instantly begin diving cover taking defensive positions martius scans location sees attack coming old hilton hotel pockmarked bullets artillery shells windows shattered volscian stronghold stand sees flashes volscian soldiers moving roof balconies snipers firing windows open plaza littered bodies debris hotel martius stops scanning binoculars sees aufidius moving hotel directing battle martius man souls hate aufidius piercing romans titus worthy sir thou bleeds thy eercise hath violent second course fight martius sir praise work hath warmed blood drop medicinal dangerous aufidius appear fight turns soldiers imploring join bloody visage intensity strangely inspiring ferocity infectious martius soldiers sin doubt love painting smeared fear lesser person ill report think brave death outweighs bad life countrys dearer let minded wave epress disposition follow martius soldiers pumped marines straining combat  martius  sword bolt zigzagging plaza hotel titus provide covering fire et coriolesplaza martius zigzags men dangerously eposed plaza return fire hotel best barrage volscians murderous roman soldiers contort fall blood spraying bullets snap ricochet steady pace reloading firing martius hit blood sprays keeps hotel closer martius soldiers race hotel crash lobby corioleshotellobby martius soldiers battle volscian defenders hotel lobby weird incongruous nature modern urban warfare soldiers fighting death hotel couches tatty corporate artwork brutal martius soldiers cut bloody swath hotel lobby huge eplosion rocks hotel seismic blast ugly s chandelier falls  martius men stairwell corioleshotelstairwell martius men race stairway volscians firing bullets ricochet crazily confined stairway refracting concrete walls twisting metal railing sending sparks clouds dust martius slows stop aufidius stairway glaring long beat lock panting breath heat combat martius ill fight thee hate thee aufidius hate alike martius astounding holds arms sides drops weapons clatter aufidius roman volscian soldiers watch daring interfere martius aufidius continue glare dropping weapons disarming martius climbing stairs aufidius coming moving closer closer instant slam fighting weapons grappling brutally tearing twining fingers grasping teeth snapping hands pulling bloody terrible graceless struggle  crash slam awkwardly claustrophobic stairwell smashing walls falling level level eplosion rocks hotel roof collapses concrete slams cloud smoke dust debris obscures martius tossed violently ground action aufidius pulled men drag safety roman soldiers fire sound deafening confined garage aufidius comrades disappear cloud dust gone martius glares wipes blood corioleshotellobby hotel lobby turned hastily assembled emergency triage station moaning screaming injured constant roman medics attend wounded administering ivs arranging evacuations performing battlefield surgery martius sits dried blood covering looking injured dying soldiers medic stitches wound arm titus general cominius enters attending officers going congratulate martius cominius tell thee thy days work thou believe thy deeds martius barely listening attention young soldier young soldier injured pale thirsty dying cominius ill report senators shall mingle tears  cominius contd smiles great patricians shall attend shrug end admire thank gods rome hath soldier martius shifting painfully pray mother praise grieves thats induced thats country martius continues poor dying soldier titus rome value concealment worse theft hide doings martius wounds smart hear remembered surgeon finishes stitching martius arm starts clean wound cominius fester ingratitude modest impatient martius rises painfully slowly takes canteen crosses young soldier gives canteen boy young soldier drinks deep sad gaze martius martius watches young soldier dies light goes head hangs awkwardly boyish leaden martius suddenly finds ehausted morally physically spent  martius cominius wash fair shall perceive blush howbeit thank martius stares dead soldier et coriolesstreet aufidius volscian soldiers bloody filthy foot moving outskirts corioles leaving city ehausted long failed battle fires burn blasted shops homes romans clearly laid waste city minivan stopped ahead bullets holes bodies inside walk aufidius dead family father mother kids bloody toys floor minivan roman atrocities aufidius gazes bodies hardens whispers aufidius times martius fought thee hast thou beat think encounter eat aware men looking disturbed fervor aufidius thought crush equal force true sword sword ill stab way wrath craft  soldier hes devil aufidius bolder subtle beat aufidius continues prayerlike intensity aufidius valor poisoned shall fly sleep sanctuary naked sick prayers priests times sacrifice shall lift rotten privilege custom hate martius shattered glass minivan window aufidius suddenly sees studies nurturing dark thoughts aufidius find home brothers guard wash fierce hand heart politico bar rome comfortable restaurant bar near senate politicians gather eat drink gossip conspire business state conducted steak martinis comfortable red leather booths wooden panelling tribunes senators chosen speak people having lunch brutus large man rumpled grey suit sweating bear taste bareknuckle politics sicinius smaller vulpine crafty cold ambitious politicos manipulating people press personal ends sits cassius political agitator met tv bar shows images martius victory parading roman troops volscian prisoners flags adoring crowds triumphant slogans mission accomplished  sicinius man proud martius cassius equal sicinius chosen tribunes people brutus marked lip sicinius nay taunts senator menenius approaching sicinius nods cassius quickly goes menenius stops way jolly knowing victory assure proteges political future menenius augurer tells shall news tonight brutus good bad menenius according prayer people love martius sicinius nature teaches beasts friends menenius blame martius proud brutus sir subtly polite chitchat turning pointed menenius growing sharper gloves coming menenius talk pride  turn napes necks interior survey good selves   brutus sir menenius discover brace unmeriting proud violent testy magistrates alias fools rome saturnine sicinius response threat sicinius menenius known menenius known humorous patrician loves cup hot wine drop allaying water converses buttock forehead morning think utter spend malice breath brutus come sir come menenius ambitious tense beat formidable adversaries menenius goodeen worships conversation infect brain herdsmen beastly plebeians bold leave goes tribunes watch cut lunch crowd eit et senate roman senate constructed classical symmetry clean square lines probably striking beautiful building rome senatecorridor volumnia virgilia menenius hurrying corridor ecited welldressed important public event  volumnia honorable menenius boy martius approaches love juno lets menenius wounded wont come home wounded virgilia  volumnia victoriously  wounded thank gods menenius brings victory pocket wounds disciplined aufidius soundly volumnia titus lartius says fought aufidius virgilia truth theres wondrous things spoke gods grant true volumnia ehalation scorn true menenius ill sworn true wounded volumnia menenius gleefully add sons wounds accountants campaign managers volumnia shoulder left arm large scars people shall stand place received repulse tarquin seven hurts body menenius neck thigh theres  volumnia epedition twentyfive wounds menenius twentyseven gash enemys grave focus volumnias thinks son volumnia carries noise leaves tears death dark spirit nervy arm doth lie advanced declines men die hurry stop grand staircase people waiting senatestairs join cominius dignitaries majestic stairway honor guard roman soldiers dress uniforms waiting roman flags flutter ceremonial martius enters honor guard snaps attention martius called coriolanus slowly begins cross steps walking difficult wounds severe movement agony paid steep price victory photographers flash photos tv crew film ceremony coriolanus finally reaches steps leading takes breath slowly begins climb stairs step challenge volumnia unmoved pain virgilia distraught coriolanus slowly hauls steps general cominius speaks cluster microphones addresses press  cominius known world caius martius wears wars garland time corioles applause clamor host caius martius coriolanus martius bear addition nobly soldiers salute grim sort chant soldiers caius martius coriolanus coriolanus reached podium awkward beat cominius gestures speak microphones tersely coriolanus offend heart pray awkward silence cominius elegantly tries covers moment cominius sir mother coriolanus  petitioned gods prosperity kneels slowly great difficulty lets volumnia nay good soldier slowly rises gentle martius worthy caius deedachieving honor newly named coriolanus thee laughs coquettishly thoroughly upstaging son afterthought  volumnia  thy wife coriolanus greets virgilia clumsy stiff formality marks marriage coriolanus gracious silence hail awkwardly tender kiss notes tears reacts coldly coriolanus thou laughed come coffined home weeps triumph ay dear widows corioles wear mothers lack sons menenius gods crown thee coriolanus greets warmly live volumnia laughs turn  welcome home welcome general youre welcome menenius thousand welcomes coriolanus surrounded wellwishers political admirers volumnia menenius usher image tv noble warrior returned home devoted family flags waving future golden villabathroom evening hard reality coriolanus body battleground scars livid red fresh oozing blood pale blue discolored dead body monstrous stitched patched slashed frankensteins monster  leaning sink stripped naked muscular shattered body eposed volumnia sits dresses sons wounds disturbing intimate image coriolanus good senators visited received greetings change honors shifts painfully continues treat wounds volumnia lived inherited wishes buildings fancy theres thing wanting doubt rome cast thee catches eye mirror firm coriolanus good mother servant way sway theirs stop virgilia enters stops doorway embarrassing interrupted lovers long moment husband volumnia stare way compete intimacy surrendering silently goes villa hallway evening virgilia wanders long hallway past fine collection antique roman weaponry lost  stops opens glances sons bedroom young martius asleep military toys cadet uniform carefully hung polished boots waiting stern joyless childs virgilia closes continues long hallway disappearing darkness senateoffice darkened office brutus sicinius sit heads focused sicinius temperately transport honors lose hath won brutus heard swear stand consul appear marketplace showing manner wounds people beg stinking breaths sicinius word senatecorridor brutus sicinius continue hurry senate chamber brutus fall authorities end sicinius suggest people hatred hath held brutus shushing peace  enter senate chamber senate chamber brutus sicinius way seats hear menenius v remains main point meeting gratify noble service hath stood country interior grand senate airy sweeping chamber suggests israeli knesset un general assembly classical symmetry rule tiers seats facing central dais imposing piece outdated modern art suggesting rome looms chamber bird prey network tv cameras purr quietly corner menenius cominius coriolanus politicos seating central table dais facing rows senators menenius standing podium speaking microphone menenius reverend grave elders desire present consul general wellfound successes report worthy work performed caius martius coriolanus senator speak good cominius general cominius rises moves podium coriolanus abruptly stands menenius nay place senator sit coriolanus shame hear nobly  coriolanus honors pardon wounds heal hear menenius pray sit coriolanus scratch head sun alarum struck idly sit hear nothings monstered coriolanus moves dais eits hallway shuts menenius sighs nods cominius cominius moves podium begins read speech teleprompter rehearsed quality campaign nomination speech cominius deeds coriolanus uttered feebly held valor chiefest virtue dignifies haver entered mortal gate city struck corioles planet foot thing blood brutus sicinius echange glance bored political boilerplate senateservice corridor coriolanus stands service corridor chamber green industrial walls ugly fluorescent lights leans wall thoughts cominius voice heard droning inside coriolanus glances custodian pushing garbage long corridor stops sees coriolanus coriolanus cool uncompromising stare makes custodian uneasy turns goes  coriolanus waits strangely vacant flees wounded arm hurts hears cominius finish good round applause hears cheered coriolanus coriolanus closes steels enters chamber senate chamber menenius greets escorts podium acceptance speech menenius senate coriolanus pleased thee consul menenius steps beat coriolanus stares senators tv cameras leans awkwardly podium microphone coriolanus owe life services beat acceptance speech terse menenius jumps salvage moment menenius remains speak people coriolanus beseech let overleap custom entreat wounds sake suffrage pass senate floor sicinius jumps sicinius sir people voices  senators led brutus clamor agreement tradition obeyed menenius calming coriolanus pray fit custom coriolanus shall blush acting taken people menenius quickly turns coriolanus microphone brutus sicinius mark coriolanus brag unto unaching scars hide received hire breath menenius sees coriolanus getting angry disastrous elegantly gestures cominius escort coriolanus immediately addresses senators tv cameras menenius noble consul wish joy honor applauds applause taken senators cheering hero rome tribunes whispering maliciously senators menenius pleased general response far good villa living volumnia pleased sits watching events unfold tv sound cheering fades  menenius limo limousine winds pedestrian traffic roman marketplace coriolanus sits menenius coriolanus angry embarrassed wearing sharp business suit menenius known worthiest men coriolanus agrees custom calls custom wills things sir wounds countrys service menenius o gods speak desire think coriolanus think hang em forget menenius youll mar limo stops marketplace moment come menenius takes breath urges calm menenius pray speak pray wholesome manner coriolanus sourly bid wash faces teeth clean leaves car  et marketplace commercial heart rome large town square antiquity marketplace filled tatty stalls selling cheap purses knockoff watches paltry fruit stands alongside shabby souvenir stalls advertising billboards surround pollute square sony coke nike mcdonalds obscuring classical architecture survived tamora cassius political activists crowd watch closely coriolanus slowly walks center marketplace stands feeling ridiculous humble waiting happen customers shopkeepers curious amused hostile indifferent approaches coriolanus understands g beg votes prepares slowly moves stalls weaving trying maintain dignity sees citizens goes glimpse brutus sicinius crowd coriolanus cassius cause sir standing cassius sir tell hath brought coriolanus desert tamora desert coriolanus ay desire  tamora desire coriolanus desire trouble poor begging cassius think hope gain coriolanus pray price consulship war vet price ask kindly coriolanus kindly sir pray let wounds shall private good voice sir war vet impressed shall worthy sir coriolanus match sir theres worthy voices begged alms adieu business thinks coriolanus crisply moves cassius convinced cassius odd coriolanus continues sees large jamaican woman children carrying plastic grocery bags talking shopkeeper goes coriolanus pray stand tune voices consul jamaican woman deserved nobly country deserved nobly coriolanus enigma  jamaican woman scourge enemies rod friends loved common people coriolanus account virtuous common love beseech consul shopkeeper hope find friend voices heartily jamaican woman received wounds country coriolanus seal knowledge showing voices trouble farther jamaican woman gods joy sir heartily coriolanus warming task easier thought moves central open area declares publicly coriolanus voices voices fought watched voices voices bear wounds dozen odd battles thrice si seen heard crowd gathering note brutus sicinius crowd menenius moved coriolanus voices things voices consul war vet nobly honest mans voice  race track tout let consul jamaican woman gods joy good friend people citizens applaud support citizens amen amen god save thee noble consul coriolanus worthy voices menenius brutus sicinius goes menenius stood limitation tribunes endue peoples voice coriolanus sicinius custom request discharged people admit summoned meet anon approbation coriolanus senate sicinius coriolanus menenius ill company brutus brutus declines stay people coriolanus menenius relieved trial brutus sicinius work gone wanted urgent sicinius masters chose man  cassius ruefully voices sir brutus pray gods deserve loves tamora amen sir poor unworthy notice mocked begged voices cassius certainly flouted downright jamaican woman kind speech mock tamora sharply showed marks merit wounds received fors country sicinius sure tamora saw cassius inciting crowd mockery brutus presses hard brutus power petty servant state enemy spake liberties sicinius perceive solicit free contempt need loves think contempt shall bruising hath power crush  cassius tamora carefully lead crowd epressing growing alarm resistance coriolanus cassius hes confirmed deny tamora deny ill voices sound cassius twice friends crowd roars approval frightening animal sound sicinius let assemble safer judgment revoke ignorant election brutus enforce pride old hate unto sicinius presently drawn number repair capitol cassius tamora repent election cassius tamora lead crowd terrifying spectacle sudden mob rage razorthin edge violence brutus sicinius watch satisfied robespierre saint looking bloody guillotine senatecorridor coriolanus dressed familiar uniform emerges antechamber comrade titus menenius general cominius procoriolanus senators follow stride corridor  coriolanus titus tullus aufidius assembled new army titus lord coriolanus saw aufidius titus retired antium coriolanus spoke titus lord coriolanus titus met sword sword things earth hated person coriolanus antium lives titus antium coriolanus wish cause seek oppose hatred fully hear growing rumble crowd curious continue turn corner senatecentral lobby central lobby senate open airy space glass doors lobby unruly crowd seen gathering police barricades sicinius brutus waiting intercept  coriolanus titus behold tribunes people tongues common mouth sicinius pass coriolanus ha brutus dangerous coriolanus makes change menenius matter cominius hath passed nobles commons brutus cominius coriolanus steps closer brutus mob sees glass doors tension immediately increases coriolanus childrens voices titus tribunes way brutus people incensed coriolanus glancing growing crowd herd menenius calm calm brutus people cry mocked late called timepleasers flatterers foes nobleness  coriolanus known sicinius people stir pass bound inquire way crowd outside growing restless sensing responding building tension police try hold keeping doors crowd presses cassius tamora forefront urging crowd menenius lets calm cominius people abused set menenius titus heat sir coriolanus strides angrily doors eits follow et senatecourtyard coriolanus launches crowd blistering anger coriolanus nobler friends crave pardons mutable rankscented crowd let regard flatter behold soothing nourish senate cockle rebellion insolence sedition ploughed sowed scattered mingling  menenius titus words beseech mob surrounded police getting nervous darting uneasily unruly crowd volatile men potential sparking violence note tv news crew moving position covering action film cell phone cameras intercut footage brutus coriolanus provoking speak people god punish man infirmity sicinius let people coriolanus patient midnight sleep jove mind sicinius mind shall remain poison poison coriolanus eplodes shall remain hear triton minnows mark absolute shall brutus people speaks voice coriolanus ill reasons worthier voices menenius tries pull coriolanus shakes free continues attack  coriolanus jove makes consuls base soul aches authorities supreme soon confusion enter twit gap crowd roars angrily coriolanus spins coriolanus debase nature seats rabble cares fears time break ope locks senate bring crows peck eagles menenius come brutus overmeasure sicinius calls mob spoken traitor shall answer traitors word traitor coriolanus loses reason fire coriolanus thou wretch despite overwhelm thee brutus manifest treason sicinius consul coriolanus old goat coriolanus grabs sicinius roughly flings aside crowd roars outrage tv crews hustle position menenius pulls coriolanus  menenius sides respect sicinius calling crowd heres power crowd reacts angrily surging forward restraint police grim riot police marching position crowd intimidated spoiling fight tribunes provoke crowd escalating building fever brutus point lose liberties martius martius late named consul sicinius city people tamora true people city sicinius pronounce people martius worthy present death huge roar mob panic violence building fast overlapping brutus guards seize coriolanus ill die brutus lay hands sicinius crowd help ye citizens cue civil violence threatened opening moments story finally eplodes  cassius tamora forefront crowd attacks police riot police march slamming ahead riot shields truncheons mob fights hand armed clubs knives snatch garbage cans newspaper vending machines throwing smashing windows battling police kicking punching screaming civil disobedience drunken thug violence terrifying intensity menenius gets titus cominius hustle coriolanus menenius gone naught cominius come sir hurry coriolanus riot police outnumbered start firing tear gas crowd screams tv news crew filming chaotic flurried violence shaky tv images cell phone video choking acrid gas terrifying descent public madness order breaks rome bloody senateoffice dusk menenius tribunes gathered darkened office highstakes politicking tamora bloody riot supporters  menenius urgently consuls worthiness faults sicinius consul consul menenius consul coriolanus brutus consul sicinius decreed dies tonight tamora hes disease cut menenius  hes limb disease mortal cut cure easy rome thats worth death eh killing enemies sees words having effect presses point menenius blood hath lost dropped country murmur agreement brutus hear menenius consider bred wars draw sword ill schooled graceful language leave ill undertake bring shall answer lawful form peace utmost peril procoriolanus senator noble tribunes humane way  senator course prove bloody end unknown beginning sicinius retort brutus stops brutus assents assuming voice reason brutus peoples officer menenius coriolanus supporters relieved brutus bring martius proceed way menenius ill bring goes quickly brutus turns sicinius tamora begins quietly eplain plan martius villacorridor coriolanus strides angrily long corridor shafts light seething titus coriolanus let pull ears present death wheel wild horses heels titus martius coriolanus continuing unabated muse mother approve slams living villa living stomps confront mother currently conspiring menenius senators  coriolanus volumnia angrily talk wish milder false nature play man equally tough giving inch snapping volumnia  sir sir sir power worn coriolanus let volumnia man striving coriolanus let hang volumnia av burn outraged fury matches overpowers menenius coriolanus come come rough rough return mend coriolanus turns volumnia pray counseled heart apt brain leads use anger better vantage menenius said noble woman coriolanus  menenius return tribunes coriolanus menenius repent spoke coriolanus gods volumnia absolute noble coriolanus upset walking force pursues volumnia lies speak people instruction matter heart prompts words rehearsed tongue bastards syllables allowance bosoms truth moves closer voice lower sort seduction volumnia dissemble nature fortunes friends stake required honor close whispering touches gently lover volumnia wife son senators nobles long beat silent watching spin web  volumnia prithee son thou art soldier bred broils soft way asking good loves thou wilt frame thyself forsooth theirs menenius speaks hearts volumnia prithee ruled laughing thou hadst follow thine enemy fiery gulf flatter bower coriolanus smiles genuinely sweet moment cominius enters political supporters cominius sir fit strong party defend calmness absence alls anger menenius fair speech cominius think serve thereto frame spirit volumnia coriolanus prithee coriolanus base tongue noble heart lie bear agitated volumnia shares concerned glance menenius  coriolanus bitterly disposition possess harlots spirit beggars tongue motion lips armed knees bowed stirrup bend hath charity received thought begging rejects breaking coriolanus lest cease honor truth bodys action teach mind inherent baseness volumnia snarls easperated building thunder dwarfs volumnia thy choice beg thee dishonor thou come ruin let thy mother feel thy pride fear thy dangerous stoutness mock death biq heart thou words echo slapped resolve vanishes coriolanus pray content mother going chide awaits approval grant coriolanus going commend wife ill return consul trust tongue way flattery graciously bows  volumnia kisses goes queen volumnia triumphant shocking hard cut television studio crowded tv studio audience stands filling television cameras lights heavy security stage set chat translight city skyline set standing microphones set sicinius brutus conspiring citizen activists cassius tamora brutus sicinius point charge home affects tyrannical power evade enforce envy people sicinius tamora catalogue voices procured set poll tamora ready sicinius people hear shall strength commons death fine banishment let fine cry fine death cry death tamora shall inform  cassius tamora hurry instruct manipulate crowd best mi audience stands gloomy resolved coriolanus walks cominius menenius tiers audience way set cominius arm answer mildly prepared accusations hear strong coriolanus word mildly pray let let accuse invention answer honor menenius ay mildly coriolanus mildly mildly coriolanus steels emerge stands head set tv news crews waiting blinding lights snap crowd seeing coriolanus lets roar deafening savage cassius tamora moving crowd instigating convincing imploring coriolanus ignores imperious end brutus sicinius wait set brutus whispers sicinius choler straight coriolanus supporters stage coriolanus glares tribunes tv crews position menenius gestures coriolanus step microphone whispering  menenius calmly beseech coriolanus steps microphone brutus gestures crowd quiet bits scene monitors tv cameras crowd silent coriolanus begins rehearsed speech coriolanus honored gods voice echoes badly reverb menenius adjusts microphone coriolanus begins quickly rote coriolanus honored gods rome safety chairs justice supplied worthy men plant love throng large temples shows peace streets war cominius amen amen menenius noble wish boilerplate speech coriolanus turns sicinius standing microphone coriolanus shall charged present determine sicinius demand submit peoples voices coriolanus content  villa living volumnia watches proceedings closely tv pleased sons performance far television studio menenius peoples friend steps microphone menenius lo citizens says content warlike service consider think wounds body bears graves holy churchyard coriolanus uncomfortable scratches briers scars laughter apartment aufidius sits officers leaning forward watching drama unfold tv television studio menenius consider speaks citizen find soldier rougher accents malicious sounds soldier coriolanus cuts impatience getting better coriolanus matter passed consul voice dishonored hour sicinius charge contrived rome seasoned office wind power tyrannical  sicinius contd coup de grace traitor people coriolanus responds cobra striking coriolanus traitor menenius alarmed nay temperately promise coriolanus fires lowest hell fold people traitor thou injurious tribune sicinius calling mark people crowd responds egged cassius tamora murmur voices chant growing traitor traitor traitor brutus cleverly plays reasonable voice knowing words rile coriolanus brutus hath served rome coriolanus snaps prate service brutus talk coriolanus ill let pronounce death eile flaying pent linger grain buy mercy price fair word  villa living volumnia watches alarmed knows rage prove disastrous son television studio sicinius seizes moment destroy coriolanus barking microphone sicinius people power tribunes instant banish city peoples shall wellrehearsed cassius tamora crowd respond fierce cry crowd shall shall let tamora hes banished shall crowd shall shall shall cassius tamora crowd fever pitch chanting railing building seismic rumble cominius stepping forward hear masters common friends sicinius hes sentenced hearing cominius let speak crowds fury building erupt  brutus theres said banished enemy people country shall crowd shall shall shall coriolanus eplodes rage volcanic slams standing microphone dragons roar silences entire studio coriolanus common cry curs collective intake breath crowd stunned coriolanus breath hate reek rotten fens loves prize dead carcasses unburied men corrupt air word attack banish crowd silent dares breathe villa volumnia watches frozen breathless apartment aufidius stands riveted studio coriolanus remain uncertainty let feeble rumor shake hearts enemies nodding plumes fan despair power banish defenders till length ignorance finds till feels  coriolanus cantd making reservation foes deliver abated captives nation won blows beat tv cameras hum crowd silent menenius watch amazement coriolanus slowly takes long people rome coriolanus despising city turn turns slowly walks tunnels leading studio crowd follows step stops turns steel coriolanus world goes tunnel disappearing view silent beat chilling cry absolutely jacobin bloodlust stands tamora peoples enemy gone crowd screams approval savage cry echoes studio echoing roar takes  et wasteland checkpoint dawn outskirts rome urban wasteland abandoned factories rusting cars overgrown vacant lots collapsing advertising billboards lonely gas station distance neon sign glowing lurid green gray dawn light roman checkpoint highway city guardhouse barrier barbed wire barricades bored soldiers cars pull checkpoint roman security suvs menenius familiar limousine volumnias enormous bentley security guards climb vehicle light cigarettes chat soldiers manning checkpoint menenius titus cominius climb menenius limousine volumnias bentley dawn inside bentley coriolanus comforting wife mother coriolanus virgilia come leave tears brief farewell beast heads butts virgilia  heavens  heavens volumnia tears coriolanus surprisingly unsentimental tough coriolanus nay mother ancient courage volumnia red pestilence strike trades rome occupations perish coriolanus nay mother shall loved lacked nods regained composure  climb car et wasteland checkpoint dawn coriolanus takes leave coriolanus embracing titus bid farewell titus farewell martius coriolanus embracing cominius cominius droop adieu ill goes menenius genuinely distraught political machinations truly cares coriolanus coriolanus moved menenius emotional coriolanus thou old true menenius thy tears salter younger mans venomous thine menenius deeply shake seven years id thee foot embrace coriolanus knows time picks traveling bag slings shoulder friends family beat certain darkness creeps epression ominous resolve coriolanus shall hear turns distance miles miles wasteland desolation  future coriolanus lonely dragon strides soldiers manning checkpoint raise barrier coriolanus walks begins walking long highway rome sound cold lonely moan wind fade et eile sequence coriolanus eile long odyssey grueling physical journey spiritual challenge solitary comfort vulnerable elements demons psyche walks barren highway trash piled road car zooms past whoosh lost dust blazing heat furnace trudges desert terrain burning oil wells blacken sky distance isolated walks past detritus war burned tank mountain rusted artillery shells skeletons bleached sun clothes dusty dirty sandstorm wraps scarf head burnoose visible gypsy boy tattered clothing riding white horse passes boy intently passes sense moving different terrain mountain range climbing descending pouring rain lightning sparking romantic figure byronic wrapped cloak wildness nature chiaroscuro flashes light illuminating haunted  end et outside antium coriolanus stands statue life blazing staring small town distance sign antium destination began home nemesis hated aufidius begins walk town politico bar rome brutus sicinius having lunch usual hangout volumnia entering restaurant pulling virgilia ambush heads tribunes volumnias grim intensity predator strangely wild brutus comes mother sicinius prepares lets meet shes mad volumnia stalks volumnia  youre met hoarded plague gods requite love tribunes try leave wont let volumnia gone virgilia shall stay power husband sicinius mad  volumnia ay fool shame note fool hadst thou craft banish struck blows rome thou hast spoken words sicinius trying escape  blessed heavens volumnia creating scene heads turning continues attack sicinius distracted jumbled volumnia noble blows thou wise words romes good ill tell thee nay thou shalt stay son arabia thy tribe good sword hand sicinius virgilia hed end thy posterity volumnia bastards menenius entered bar seeing trouble goes tries calm volumnia menenius come come peace brutus pray let tries leave bar volumnia stops final attack curse power volumnia pray sir gone brave deed ere hear grabs virgilia  volumnia contd ladys husband banished eceed brutus leave sicinius stay baited wants wits volumnia gods confirm curses menenius gently restrains volumnia tribunes finally escape bar volumnia takes breath controls volumnia meet em unclog heart lies heavy menenius told home troth cause youll sup turns cold killing fire volumnia angers meat sup shall starve feeding takes virgilias hand drags menenius watches saddened proud volumnia reduced et antium antium old volscian city gone seed latin flavor havana life place certain humid vitality singing bar old men playing dominos patio flickering tv radio babel terraced apartment buildings  coriolanus shrouded burnoose hamas soldier moves streets takes life town walks studying faces volscians coriolanus sees heavilyguarded apartment building end street jeeps soldiers coriolanus approaches stealth moving shadows street ducking doorways alleys taking advantage darkness stops steps shadows sees aufidius walking officers aufidius beloved antium easy manner people stops chats laughs dances moment girl coriolanus watches shadows epression comple real envy aufidius comfortable way common people hes natural unaffected aufidius jokes girls parents moment moves coriolanus watches aufidius men apartment building scans building eye special forces soldier sees soldiers guarding building bored perfunctory work young women hookers past building flirting soldiers soldiers whistle delighted coriolanus uses distraction slip shadows soldiers sneak building apartment buildingcorridor coriolanus moves stealth heading clearly center action noisy second floor doorway guarded guards bored soldiers grim intense warriors  coriolanus considers course decides takes breath focuses ice moves steady stride walks guards respond punches hard throat guard recoils gasping air simultaneously coriolanus slams hand violently entire second guard grabbing firmly shoving hard slams aside coriolanus shoves guard aufidius chamber aufidius having dinner men wives children soldiers bolt upsetting table smashing dishes pulling guns alarmed coriolanus powers holding second guard flings guard aside aufidius men pointing weapons coriolanus stunned long beat coriolanus masked burnoose cold visible aufidius comes thou wouldst thou thy coriolanus respond  aufidius growing uneasy men tense ready open fire second aufidius speak man whats thy coriolanus unmusical volscians ears harsh sound thine guard outside soldiers rush weapons drawn surrounding coriolanus doesnt muscle aufidius intrigued strangers courage waves men aufidius whats thy thou grim appearance whats thy coriolanus knowst thou aufidius thee thy finally coriolanus removes burnoose eposed volscians stunned coriolanus caius martius hath thee particularly volsces great hurt mischief thereto witness surname coriolanus volscians aufidius nervous unsure proceed aufidius stares coriolanus staggered coriolanus remains aufidius doesnt understand coriolanus eplains coriolanus cruelty envy people forsook hath devoured rest suffered voice slaves  coriolanus cantd whooped rome etremity hath brought thy hearth hope mistake save life feared death men world avoided thee mere spite quit banishers stand thee coriolanus dares step aufidius volscians react guns raised fingers tight triggers instant opening fire coriolanus carefully holds arms hes unarmed aufidius nods men hold fire coriolanus slowly crosses aufidius step step locked world eists coriolanus fight cankered country spleen fiends thou dares present throat thee thy ancient malice coriolanus stops aufidius slowly carefully undoes collar eposing naked throat bending head ready eecution coriolanus cut thee fool followed thee hate live thy shame thee service long beat aufidius stares coriolanus volscians watch wide tense  aufidius continues stare coriolanus locked coriolanus blinks sweat tiny human response sparks aufidius aufidius o martius martius word thou hast spoke hath weeded heart root ancient envy offers hand coriolanus takes aufidius continues hold hand intensely speaking low aufidius let twine arms body embraces coriolanus aufidius men finally rela weapons lowered relieved glances echanged volscians clearly suspicious coriolanus watch aufidius coriolanus concerned aufidius cant believe ancient enemy newest ally aufidius thou loved maid married man sighed truer breath thee thou noble thing dances rapt heart wedded mistress saw bestride threshold coriolanus glances disturbed embarrassed intensity aufidius words aufidius steps gestures coriolanus sit aufidius thou mars tell thee power foot purpose hew thy target thy brawn  aufidius contd lose arm thou hast beat times nightly dreamt encounters twit thyself aufidius continues quietly whispering aufidius worthy martius quarrel rome thou art banished muster seventy pouring war bowels ungrateful rome bold flood overbear shower coriolanus sits naked finally washed layers dirt journey old woman electric razor shave head aufidius standing doorway watching coriolanus body adding scars wounds pause aufidius goes old woman takes razor goes aufidius continues shave coriolanus head deeply personal act intimate aufidius employs methodical rhythms sharpening knife opening story apartment buildingwar volscian military command center maps recon photos radio equipment stacks grenade launchers arms aufidius captains aides wait alongside bedraggled volsce politicians illfitting suits aufidius ushers coriolanus  aufidius  come friendly senators hands coriolanus shakes hands politicians coriolanus bless gods aufidius takes huge military map laid pool table rome territories strategic markers denote roman forces volscian forces aufidius absolute sir thou wilt leading thine revenges half commission volscian soldiers politicos shocked aufidius giving coriolanus command half forces aufidius set best thou art eperienced thou knows thy countrys strength weakness thine ways knock gates rome rudely visit parts remote fright ere destroy aufidius coriolanus hard gauntlet thrown coriolanus completely betray rome epose military weaknesses tell secrets neurotic intensity aufidius shrewd man coriolanus nods turns battle map moving markers romes defensive positions aufidius watches machiavellian calm politico bar weeks rome politics usual menenius passing tribunes table josh brutus menenius  sicinius tis tis  grown kind late hail sir menenius hail sicinius coriolanus missed friends menenius alls better temporized sicinius hear menenius nay hear mother wife hear brutus caius martius worthy officer war insolent overcome pride ambitious past thinking selfloving menenius think sicinius rome sits safe distracted people begin talking loudly alarmed bar hush watch tv bar happened tv special report breaking news scroll screen reads volscians march tv anchorman tv reports volsces powers entered roman territories deepest malice war destroy lies  bar growing quiet watching tv shows grainy indistinct images cell phone pictures troops tanks menenius tis aufidius hearing martius banishment thrusts forth horns world sicinius nervous come talk martius brutus volsces dare break tv anchorman tv nobles great earnestness going senate news coming turns countenances listens ear piece second yes report seconded fearful delivered tv picture switches flustered tv reporter outside senate lot nervous activity tv reporter tv spoke freely mouths probable martius ioined aufidius audible gasp bar quickly silenced hushed hear tv tv reporter tv leads power rome vows revenge spacious youngest oldest thing close terror faces politicos menenius word goes want believe possible  villa bedroom virgilia lies bed tv imbedded war correspondent giving update intercut shaky unclear images volscian army tv war correspondent tv fearful army led caius martius associated aufidius rages territories overborne way consumed fire took lay villa living volumnia sits frozen smoking watching tv emotions deep dark son model roman virtues betrayed country tv war correspondent tv martius joined volscians god leads boys pursuing summer butterflies butchers killing flies close volumnias gives practically takes slow drag cigarette et volscian camp urban industrial wasteland old factories abandoned warehouses broken asphalt smashed windows volscians set camp decaying fringes city military hardware guns missile launchers armored vehicles soldiers cleaning weapons cooking meals sleeping playing video games  incongruous sight old barber chair floats past moving blue sky carried overhead group volscian soldiers different volscian soldiers altered uniforms pagan primitive shaved heads tattoos wear striking war paint lord flies set barber chair outside abandoned factory shattered abandoned factory coriolanus domain decorated human skulls camp barber fat man greasy butchers apron begins strop razor hard core young soldiers line heads shaved coriolanus acolytes sign coriolanus aufidius lieutenant stand fringes disturbed strange cult personality grown coriolanus aufidius fly coriolanus lieutenant witchcrafts soldiers use grace meat talk table thanks end darkened action sir aufidius bears proud person thought embrace turn walk building aufidius quartered lieutenant sir beseech think hell carry rome  aufidius grim think hell rome osprey fish takes sovereignty nature aufidius nods guards outside quarters enters lieutenant volscian campaufidius quarters shattered building old graffiti walls weapons maps aufidius gear aufidius sits cot deep thought pulls folded bit paper pocket carefully lovingly unfolds carrying paper months realize glossy magazine cover picture coriolanus aufidius tore earlier gazes picture fingers smoothing paper tracing contours coriolanus aufidius twas pride defect judgement nature thing feared hated banished beat studies picture lieutenant watches closely disturbed aufidius obsession coriolanus aufidius virtues lie interpretation time brings picture closer whispering aufidius fire drives fire nail nail rights rights founder strengths strengths fail caius rome thine  aufidius contd thou art poorest shortly art thou roman war rome war busy tense maps video footage chart enemys progress soldiers confer urgently outside menenius stands tribunes brutus sicinius senators generals menenius snaps angrily menenius ill sicinius imploring good menenius menenius banished mile tent fall knee way mercy stop titus enters general cominius titus dusty come pale truly shaken menenius crowd waiting report titus sits takes moment pull reports grim severity death sentence titus beat titus urged old acquaintance drops bled coriolanus answer forbade names long beat wait titus searches words continue  titus kind difficult beat titleless till forged fire burning rome head drops menenius begins leave tribunes stop leading secluded corner sicinius refuse aid brutus countrys pleader good tongue instant army stop countryman menenius ill meddle sicinius pray menenius brutus stops real emotion brutus trial love rome martius menenius martius return titus returned unheard sicinius good thanks rome menenius thinks brutus road kindness lose way  menenius despite patriot heart decides menenius ill undertake think hell hear tribunes relieved cominius nods escorts menenius brutus sicinius return titus titus hell hear sicinius titus tell sit gold eye red burn rome et checkpointhighway roman checkpoint desolate highway formidable military presence soldiers heavy weapons tanks volscian troops jeep seen highway menenius limousine pull general cominius climb menenius place trim business suit politician soldiers menenius steels passes roman checkpoint walks highway distant volscian troops et volscian camp menenius blindfolded roughly pulled volscian soldiers hear soldiers hooting stay close menenius blindfolded sharing feeling disorientation suspense volscians drag abandoned factory  abandoned factory finally guards stop pull blindfold revealing coriolanus transformed terrifying longer roman volscian titus said kind sits barber chair head completely shaved marked martial painting striking totemic markings cover scarred body primitive inhuman dragon angel death young warrior acolytes similarly shaved painted gathered personal bodyguard cult long beat menenius stares friend stunned pagan metamorphosis coriolanus gazes menenius finally pulls approaches fulsome bravado menenius glorious gods sit hourly synod thy particular prosperity love thee worse thy old friend menenius  martius martius steps forward hug coriolanus acolytes stop approach menenius accepts matter completely confident able manipulate protege past menenius thou art preparing fire thee heres water quench hardly moved come thee assured thee blown gates sighs conjure thee pardon rome  long beat menenius waits answer grows uneasy coriolanus menenius coriolanus ice wife mother child affairs servanted menenius cant believe cold response menenius sir coriolanus gone frigid slice menenius coriolanus word menenius hear thee speak menenius stares shaken core guards pull menenius coriolanus doesnt glance et checkpointhighway roman checkpoint menenius strides limousine deeply shaken interaction transformed coriolanus general cominius follows urgently menenius doesnt stop menenius martius grown man dragon wings hes creeping thing stops limo  beat turns cominius pain menenius menenius mercy milk male tiger climbs limo shuts limousine drives sending cloud dust swirls cominius menenius limo menenius sits limo speeds rome rejection coriolanus wounded plagued guilt helped create monster pushed coriolanus politics coriolanus lost soul humanity rome sword fault preys et train tracks menenius limousine pulls isolated set railroad tracks weeds springing battered advertising posters old chain link fence menenius climbs car walks tracks thinking stops sits railroad tracks pulls pocket knife roman fashion efficiently slits wrists stares hideous landscape blood begins pool stylish shoes afar sitting railroad tracks forlorn surreal urban wasteland samuel beckett character slumps  menenius dead abandoned factory sunset red glow dusk shining cracked dusty windows coriolanus barber chair broods silently aufidius sits nearby watching visit menenius troubling coriolanus coriolanus partner action report volscian lords plainly borne business aufidius curiously formal response estrangement feels coriolanus growing aufidius ends respected stopped ears general suit rome admitted private whisper friends thought sure coriolanus old man cracked heart sent rome loved measure father shouts whistles outside factory draw attention et volscian camp sunset volumnia virgilia young martius stride past soldiers mountains military hardware volumnia leads pulling hand soldiers whistle spit laugh lascivious noises watch grim dislike volumnia appears completely impervious whistles cruel taunts head high straight eagle eye forward roman patrician  magnificent abandoned factory sunset coriolanus stands volumnia virgilia young martius led factory tries register assuming sort glacial calm volumnia stop taking coriolanus savage new demeanor appearance taking acolytes pagan totems volumnia stands peering sternly son daring crumble doesnt aufidius watches closely virgilia finally bravely approaches virgilia lord husband stop warning coriolanus wore rome virgilia sorrow delivers changed makes think coriolanus best flesh forgive tyranny forgive romans shows great courage stepping forward kissing deeply long kiss coriolanus  kiss long eile sweet revenge perverse response monomaniacal imagination wifes kiss obsessively equated revenge rome finally moves volumnia simply cant resist orbital pull  coriolanus gods prate noble mother world leave unsaluted sink knee earth kneels sense duty protocol affection volumnia  stand blest rises volumnia softer cushion flint kneel thee quickly dramatically kneels coup de theatre masterpiece manipulation coriolanus knees corrected son volumnia thou art warrior hope frame thee indicates young martius volumnia poor epitome interpretation time coriolanus son god soldiers inform thy thoughts nobleness thou prove shame invulnerable volumnia pulls young martius volumnia knee sir pulls virgilia volumnia wife suitors  kneel coriolanus pitiable sight pity turns sits barber chair coriolanus beseech peace youd ask remember bid dismiss soldiers capitulate romes mechanics tell unnatural desire ally rages revenges colder reasons volumnia stands assuming position strength volumnia  said grant ask deny ask fail request blame hang hardness hear coriolanus aufidius volsces mark hear naught rome private coldly request volumnia silent speak raiment state bodies reveal life led thy eile think thyself unfortunate living women come hither thy sight flow joy hearts dance comforts constrains weep shake fear sorrow making mother wife child son husband father tearing countrys bowels  coriolanus study aloof neutrality listening intensely volumnias words affecting fights emotion impossible tell real feigned volumnia son propose wait fortune till wars determine persuade thee noble grace thou shalt sooner march assault thy country tread thy mothers womb brought thee world virgilia stands ay brought forth boy living time young martius stands approaches father challenging warlike young martius shall tread ill run till bigger ill fight coriolanus stares intensity boys aggression disturbing familiar coriolanus sat long rises turns volumnia nay command stops appeals quickly getting point argument volumnia request tend save romans destroy volsces serve condemn poisonous honor suit reconcile volsces  volumnia contd mercy showed romans received allhail thee cry blest making peace coriolanus respond softens volumnia speak son respond emotions roiling soft vulnerable volumnia dost speak softness note plays naturally knows natural aggressiveness comes anger outrage gradually boiling surface volumnia thinks thou honorable noble man remember wrongs daughter speak cares weeping speak thou boy thy childishness reasons theres man world bound mother lets prate stocks assaulting attack volumnia thou hast thy life showed thy dear mother courtesy poor hen clucked thee wars safely home loaded honor requests unjust spurn gods  volumnia contd plague thee thou restrains duty mothers belongs coriolanus turns begins walk volumnia reacts lightning grabbing virgilia young martius dragging dirt volumnia let shame knees claws dirt hecuba keening shocking eplosion raw emotion incantation volumnia end home rome die neighbors nay behold boy tell kneels holds hands fellowship reason petition strength thou hast deny remains kneeling panting air coriolanus noble mother clawing dirt animal filthy despairing wet tears senses failed volumnia come let rises slowly age showing spirit broken stares coriolanus rips roman eagle medal wears flings ground blood red sky sunset reflects passion summons strength lacerating icy farewell volumnia fellow volscian mother wife corioles child  volumnia contd chance dispatch hushed city afire ill speak turns begins finally coriolanus crack great building crumbling fissures cutting marble emotion floods lunges forward grabs hand volumnia stops time stands doesnt speak coriolanus o mother mother falls knees clutching hand coriolanus behold heavens ope gods unnatural scene laugh buries head lost child coriolanus o mother mother  won happy victory rome son believe  believe dangerously prevailed deeply mortal meaning foreshadowing clear saved rome knows doomed rome live die price victory today  willing pay price moment accepts destiny coriolanus let come stands regains composure slowly walks aufidius leans close speaking intimately coriolanus aufidius true wars ill frame convenient peace good aufidius stead heard mother granted aufidius aufidius carefully moved withal coriolanus dare sworn sir thing sweat compassion good sir peace youll advise study aufidius gives coriolanus turns volumnia victorious crimson sky looms ominously formal ministry hall solemn peace treaty signing ceremony coriolanus represents volscians cominius represents romans sit sidebyside desks signing treaty volumnia virgilia gorgeously dressed present brutus sicinius press films  stiff formality white ceremony cominius concludes signing cominius merrier greet rome epulsion tarquins great cause great thanks volumnia cominius behold patroness life rome erect ealted life rome personified ignores son coriolanus et truck stop rundown truck stop industrial wasteland garish buzzing neon filthy wheelers refueling music droning radio aufidius lieutenant seven men waiting outside dusty diner men aufidius thugs killers brutal volsces find note couple coriolanus acolytes turned great venom hero mafia hit squad waiting coriolanus return peace treaty aufidius deep thought lieutenant breaks silence lieutenant general aufidius man charity slain lieutenant soldiers remain uncertain whilst twit theres difference  lieutenant cantd fall makes survivor heir aufidius pretet strike admits good construction beat continues convincing aufidius raised pawned honor truth heightened watered new plants dews flattery seducing friends bitterly follower partner waged countenance mercenary lieutenant lord army marveled carried rome looked spoil glory aufidius works intense neurotic rage aufidius sinews shall stretched drops womens rheum cheap lies sold blood labor great action shall die ill renew fall lieutenant vantage ere epress people let feel sword second  aufidius sees distance roman military truck approaching clouds dust billow echange waiting stand stretch prepare truck stops highway coriolanus gets holds copy peace treaty leather portfolio unarmed stops sees aufidius thugs waiting death squad coriolanus knows eactly whats going happen ready nods truck drives coriolanus slowly crosses highway truck stop gunslinger walking main street new coriolanus sort acceptance knows time past aufidius thugs meet thugs spread bit strategically getting ready strike coriolanus eperienced miss meet parking lot coriolanus aufidius returned soldier infected countrys love parted subsisting great command hands treaty portfolio aufidius coriolanus peace honor volscians shame romans  aufidius handing treaty lieutenant read tell traitor highest degree hath abused powers coriolanus ready aufidius ploy amused obvious attempt anger coriolanus traitor aufidius ay traitor martius coriolanus martius aufidius ay martius caius martius dost thou think ill grace thee robbery thy stolen coriolanus spins making case coriolanus cutting bitterness aufidius perfidiously betrayed business given certain drops salt city rome city wife mother breaking oath resolution twist rotten silk admitting counsel war nurses tears whined roared victory coriolanus tries contain anger coriolanus hearst thou mars aufidius god thou boy tears  coriolanus measureless liar thou heart great contains boy  slave coriolanus miss volscian thug shifting bead sweat secretly reaching coat weapon volscian thugs clearly nervous coriolanus ready prepares mentally die acutely controlled coriolanus cut pieces volsces men lads stain edges dare challenge coriolanus boy false hound writ annals true tis eagle dovecote fluttered volscians corioles gaze burns aufidius coriolanus boy aufidius let die command men aufidius steps volscian thugs attack knives machetes tire irons coriolanus fights bravely disarming grabbing weapons killing fighting slashing cutting way killers closer closer aufidius watches blood spattering spraying thugs overpower coriolanus  stab slicing knives battering chains clubs finally emptying pistols graceless brutal carnage slaughter comes body riddled bullets cut bits refuses fall immortal obscene demon blood finally thugs coriolanus stands teetering swollen mask blood gore blood flows body pooling feet spreading parking lot aufidius steps forward left coriolanus glares blood aufidius slowly pulls knife knife sharpening carefully opening story finally found purpose coriolanus slowly coriolanus tries raise bleeding arm requires superhuman effort slashed fingers clutch shirt rips open eposing breast ready locks aufidius aufidius steps takes neck pulls knife driving cradling head lover stand coriolanus falls pause aufidius moves aufidius assist abrupt cut  et truck coriolanus body awkwardly tossed open truck sack potatoes et truck sunset crowd volscians gathered truck come coriolanus body watch faces normal people range grim emotion raises cell phone takes photo phone cameras come streaming video recording moment villa living tv footage cell phone video coriolanus body trunk volumnia stands looking son body sprawled ungainly death ritual ceremony honor snap black end'"
      ]
     },
     "execution_count": 8,
     "metadata": {},
     "output_type": "execute_result"
    }
   ],
   "source": [
    "df['script'][42]"
   ]
  },
  {
   "cell_type": "code",
   "execution_count": 9,
   "id": "romantic-capability",
   "metadata": {},
   "outputs": [
    {
     "name": "stdout",
     "output_type": "stream",
     "text": [
      "Found 144343 unique tokens.\n"
     ]
    }
   ],
   "source": [
    "tokenizer = Tokenizer(filters='!\"#$%&()*+,-./:;<=>?@[\\]^_`{|}~', lower=True)\n",
    "tokenizer.fit_on_texts(df['script'].values)\n",
    "word_index = tokenizer.word_index\n",
    "print('Found %s unique tokens.' % len(word_index))"
   ]
  },
  {
   "cell_type": "code",
   "execution_count": 10,
   "id": "cordless-orbit",
   "metadata": {},
   "outputs": [],
   "source": [
    "total_vocab = len(word_index) + 1"
   ]
  },
  {
   "cell_type": "code",
   "execution_count": 11,
   "id": "exclusive-credit",
   "metadata": {},
   "outputs": [
    {
     "name": "stdout",
     "output_type": "stream",
     "text": [
      "Shape of data tensor: (464, 25394)\n"
     ]
    }
   ],
   "source": [
    "X = tokenizer.texts_to_sequences(df['script'].values)\n",
    "X = pad_sequences(X)\n",
    "print('Shape of data tensor:', X.shape)"
   ]
  },
  {
   "cell_type": "code",
   "execution_count": 12,
   "id": "cultural-vacation",
   "metadata": {},
   "outputs": [
    {
     "name": "stdout",
     "output_type": "stream",
     "text": [
      "Shape of label tensor: (464,)\n"
     ]
    }
   ],
   "source": [
    "Y = df['simple_bechdel'].values\n",
    "print('Shape of label tensor:', Y.shape)"
   ]
  },
  {
   "cell_type": "code",
   "execution_count": 13,
   "id": "pressing-sarah",
   "metadata": {},
   "outputs": [
    {
     "name": "stdout",
     "output_type": "stream",
     "text": [
      "X_train is: (348, 25394) and Y_train is: (348,)\n",
      "X_test is: (116, 25394) and Y_test is: (116,)\n"
     ]
    }
   ],
   "source": [
    "X_train, X_test, Y_train, Y_test = train_test_split(X,Y, test_size = 0.25, random_state = 42)\n",
    "print(f'X_train is: {X_train.shape} and Y_train is: {Y_train.shape}')\n",
    "print(f'X_test is: {X_test.shape} and Y_test is: {Y_test.shape}')"
   ]
  },
  {
   "cell_type": "markdown",
   "id": "alive-silver",
   "metadata": {},
   "source": [
    "### Fitting and running the LSTM Model\n",
    "\n",
    "I started out following the exact instructions of the article from Susan Li before tinkering with the model to work on the overall results, with a simple tweak for it to be for binary classification instead of multi-class.\n",
    "\n",
    "I set the first part of the Embedding layer to the total number of tokens found in the dataframe (+1). If this takes too long I will go back and choose a maximum number for this as this might be too computationally expensive otherwise."
   ]
  },
  {
   "cell_type": "code",
   "execution_count": 14,
   "id": "touched-mouth",
   "metadata": {},
   "outputs": [
    {
     "data": {
      "text/plain": [
       "25394"
      ]
     },
     "execution_count": 14,
     "metadata": {},
     "output_type": "execute_result"
    }
   ],
   "source": [
    "X.shape[1]"
   ]
  },
  {
   "cell_type": "code",
   "execution_count": null,
   "id": "separate-cologne",
   "metadata": {},
   "outputs": [],
   "source": []
  },
  {
   "cell_type": "code",
   "execution_count": 15,
   "id": "fatal-beads",
   "metadata": {},
   "outputs": [],
   "source": [
    "model = Sequential()\n",
    "model.add(Embedding(total_vocab, 100, input_length=X.shape[1]))\n",
    "model.add(SpatialDropout1D(0.2)) #for variational dropout\n",
    "\n",
    "model.add(LSTM(128, input_shape=(X.shape[1],))) #erroring here now\n",
    "model.add(Dropout(0.2))\n",
    "\n",
    "\n",
    "model.add(Dense(1, activation='relu'))\n",
    "model.compile(loss='binary_crossentropy', optimizer='adam', metrics=['accuracy'])\n",
    "\n",
    "epochs = 5\n",
    "batch_size = 128\n",
    "\n"
   ]
  },
  {
   "cell_type": "code",
   "execution_count": null,
   "id": "introductory-example",
   "metadata": {},
   "outputs": [
    {
     "name": "stdout",
     "output_type": "stream",
     "text": [
      "Epoch 1/5\n"
     ]
    }
   ],
   "source": [
    "history = model.fit(X_train, Y_train, epochs=epochs, batch_size=batch_size,validation_split=0.1,callbacks=[EarlyStopping(monitor='val_loss', patience=3, min_delta=0.0001)])"
   ]
  },
  {
   "cell_type": "markdown",
   "id": "immediate-suspect",
   "metadata": {},
   "source": [
    "### Saving Models\n",
    "\n",
    "I will be saving each model, rather than pickling them, as recommended by Jason Brownlee in [this article](https://machinelearningmastery.com/save-load-keras-deep-learning-models/)."
   ]
  },
  {
   "cell_type": "code",
   "execution_count": 73,
   "id": "fantastic-compiler",
   "metadata": {},
   "outputs": [
    {
     "name": "stdout",
     "output_type": "stream",
     "text": [
      "Saved model to assets folder. Please remember to change number above before saving next model.\n"
     ]
    }
   ],
   "source": [
    "model.save('../assets/model_4.h5')\n",
    "print('Saved model to assets folder. Please remember to change number above before saving next model.')"
   ]
  },
  {
   "cell_type": "code",
   "execution_count": null,
   "id": "unauthorized-turning",
   "metadata": {},
   "outputs": [],
   "source": []
  },
  {
   "cell_type": "markdown",
   "id": "billion-muslim",
   "metadata": {},
   "source": [
    "### Plotting the Models\n",
    "\n",
    "Below we can see how our models perform across the epochs.\n",
    "\n",
    "Information from each iteration:\n",
    "\n",
    "1. loss: 0.4668 - accuracy: 0.9179 - val_loss: 0.6894 - val_accuracy: 0.6000\n",
    "\n",
    "The first model that was run was incredibly overfit. We are going to need to work on this some more.\n",
    "\n",
    "2. loss: 0.6024 - accuracy: 0.5039 - val_loss: 0.7552 - val_accuracy: 0.5698\n",
    "\n",
    "The second model included a validation of .25 and 6 epochs.\n",
    "\n",
    "3. loss: 0.1155 - accuracy: 0.9813 - val_loss: 0.7270 - val_accuracy: 0.5362\n",
    "\n",
    "The third model ran included a validation of .2 and ran for 9 epochs.\n",
    "\n",
    "4. loss: 0.5117 - accuracy: 0.9495 - val_loss: 0.6869 - val_accuracy: 0.5833\n",
    "\n",
    "The fourth model ran included a validation of .1 and ran for 5 epochs. It was trained on a slightly larger corpus of 468 observations."
   ]
  },
  {
   "cell_type": "code",
   "execution_count": 57,
   "id": "living-subdivision",
   "metadata": {},
   "outputs": [
    {
     "data": {
      "image/png": "[encoded data removed]",
      "text/plain": [
       "<Figure size 432x288 with 1 Axes>"
      ]
     },
     "metadata": {
      "needs_background": "light"
     },
     "output_type": "display_data"
    }
   ],
   "source": [
    "plt.title('Loss')\n",
    "plt.plot(history.history['loss'], label='train')\n",
    "plt.plot(history.history['val_loss'], label='test')\n",
    "plt.legend()\n",
    "plt.show();"
   ]
  },
  {
   "cell_type": "code",
   "execution_count": 58,
   "id": "functional-timothy",
   "metadata": {},
   "outputs": [
    {
     "data": {
      "image/png": "[encoded data removed]",
      "text/plain": [
       "<Figure size 432x288 with 1 Axes>"
      ]
     },
     "metadata": {
      "needs_background": "light"
     },
     "output_type": "display_data"
    }
   ],
   "source": [
    "plt.title('Accuracy')\n",
    "plt.plot(history.history['accuracy'], label='train')\n",
    "plt.plot(history.history['val_accuracy'], label='test')\n",
    "plt.legend()\n",
    "plt.show();"
   ]
  }
 ],
 "metadata": {
  "kernelspec": {
   "display_name": "Python 3",
   "language": "python",
   "name": "python3"
  },
  "language_info": {
   "codemirror_mode": {
    "name": "ipython",
    "version": 3
   },
   "file_extension": ".py",
   "mimetype": "text/x-python",
   "name": "python",
   "nbconvert_exporter": "python",
   "pygments_lexer": "ipython3",
   "version": "3.8.8"
  }
 },
 "nbformat": 4,
 "nbformat_minor": 5
}
