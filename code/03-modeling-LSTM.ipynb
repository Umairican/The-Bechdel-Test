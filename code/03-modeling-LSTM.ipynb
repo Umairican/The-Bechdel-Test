{
 "cells": [
  {
   "cell_type": "markdown",
   "id": "everyday-airplane",
   "metadata": {},
   "source": [
    "# Using Neural Networks To Solve The Problem\n",
    "\n",
    "The below code has been adapted from [this article](https://machinelearningmastery.com/text-generation-lstm-recurrent-neural-networks-python-keras/) on text generation with LSTM and [this article](https://towardsdatascience.com/multi-class-text-classification-with-lstm-1590bee1bd17) on classification with LSTM."
   ]
  },
  {
   "cell_type": "code",
   "execution_count": null,
   "id": "subtle-coach",
   "metadata": {},
   "outputs": [],
   "source": [
    "# Gotta bring some mates"
   ]
  },
  {
   "cell_type": "code",
   "execution_count": null,
   "id": "negative-amino",
   "metadata": {},
   "outputs": [],
   "source": []
  },
  {
   "cell_type": "code",
   "execution_count": null,
   "id": "accessible-gateway",
   "metadata": {},
   "outputs": [],
   "source": []
  },
  {
   "cell_type": "code",
   "execution_count": null,
   "id": "naked-leave",
   "metadata": {},
   "outputs": [],
   "source": []
  },
  {
   "cell_type": "code",
   "execution_count": null,
   "id": "tribal-print",
   "metadata": {},
   "outputs": [],
   "source": []
  },
  {
   "cell_type": "code",
   "execution_count": null,
   "id": "smooth-processor",
   "metadata": {},
   "outputs": [],
   "source": []
  }
 ],
 "metadata": {
  "kernelspec": {
   "display_name": "Python 3",
   "language": "python",
   "name": "python3"
  },
  "language_info": {
   "codemirror_mode": {
    "name": "ipython",
    "version": 3
   },
   "file_extension": ".py",
   "mimetype": "text/x-python",
   "name": "python",
   "nbconvert_exporter": "python",
   "pygments_lexer": "ipython3",
   "version": "3.8.8"
  }
 },
 "nbformat": 4,
 "nbformat_minor": 5
}
