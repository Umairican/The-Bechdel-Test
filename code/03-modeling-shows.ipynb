{
 "cells": [
  {
   "cell_type": "markdown",
   "id": "dutch-bikini",
   "metadata": {},
   "source": [
    "# Modeling Notebook - Adapted From reddit binary classification\n",
    "\n",
    "We sprint through some things here to see if we can get to some sort of MVP on our capstone so we can then begin trying to improve upon things."
   ]
  },
  {
   "cell_type": "code",
   "execution_count": 1,
   "id": "secret-tract",
   "metadata": {},
   "outputs": [],
   "source": [
    "#Grabbing some mates\n",
    "\n",
    "import warnings #I receive an unsightly deprecation warning for matplotlib. This suppresses it\n",
    "warnings.filterwarnings(\"ignore\")\n",
    "\n",
    "import pandas as pd\n",
    "import numpy as np\n",
    "import matplotlib.pyplot as plt\n",
    "import seaborn as sns\n",
    "from sklearn.model_selection import train_test_split, cross_val_score, GridSearchCV\n",
    "from sklearn.neighbors import KNeighborsClassifier\n",
    "from sklearn.preprocessing import StandardScaler\n",
    "from sklearn.pipeline import Pipeline\n",
    "from sklearn.linear_model import LogisticRegression\n",
    "from sklearn.feature_extraction.text import CountVectorizer, TfidfVectorizer\n",
    "from sklearn.metrics import confusion_matrix, ConfusionMatrixDisplay, classification_report\n",
    "from sklearn.naive_bayes import BernoulliNB\n",
    "\n",
    "from nltk.util import ngrams\n",
    "\n",
    "\n",
    "\n",
    "from sklearn.feature_extraction import text"
   ]
  },
  {
   "cell_type": "markdown",
   "id": "attached-borough",
   "metadata": {},
   "source": [
    "#### Importing my pulled data"
   ]
  },
  {
   "cell_type": "code",
   "execution_count": 2,
   "id": "legitimate-climb",
   "metadata": {},
   "outputs": [],
   "source": [
    "bechdel_script_df = pd.read_csv('../data/bechdel_script_df.csv')"
   ]
  },
  {
   "cell_type": "code",
   "execution_count": 3,
   "id": "traditional-auckland",
   "metadata": {},
   "outputs": [
    {
     "data": {
      "text/html": [
       "<div>\n",
       "<style scoped>\n",
       "    .dataframe tbody tr th:only-of-type {\n",
       "        vertical-align: middle;\n",
       "    }\n",
       "\n",
       "    .dataframe tbody tr th {\n",
       "        vertical-align: top;\n",
       "    }\n",
       "\n",
       "    .dataframe thead th {\n",
       "        text-align: right;\n",
       "    }\n",
       "</style>\n",
       "<table border=\"1\" class=\"dataframe\">\n",
       "  <thead>\n",
       "    <tr style=\"text-align: right;\">\n",
       "      <th></th>\n",
       "      <th>Unnamed: 0</th>\n",
       "      <th>title</th>\n",
       "      <th>script</th>\n",
       "      <th>simple_bechdel</th>\n",
       "      <th>women</th>\n",
       "    </tr>\n",
       "  </thead>\n",
       "  <tbody>\n",
       "    <tr>\n",
       "      <th>0</th>\n",
       "      <td>0</td>\n",
       "      <td>warrior</td>\n",
       "      <td>WARRIOR       ...</td>\n",
       "      <td>0</td>\n",
       "      <td>13</td>\n",
       "    </tr>\n",
       "    <tr>\n",
       "      <th>1</th>\n",
       "      <td>1</td>\n",
       "      <td>collateral</td>\n",
       "      <td>COLLA...</td>\n",
       "      <td>0</td>\n",
       "      <td>8</td>\n",
       "    </tr>\n",
       "    <tr>\n",
       "      <th>2</th>\n",
       "      <td>6</td>\n",
       "      <td>gamer</td>\n",
       "      <td>GAMER           ...</td>\n",
       "      <td>0</td>\n",
       "      <td>24</td>\n",
       "    </tr>\n",
       "    <tr>\n",
       "      <th>3</th>\n",
       "      <td>7</td>\n",
       "      <td>wanted</td>\n",
       "      <td>WANTED      ...</td>\n",
       "      <td>0</td>\n",
       "      <td>7</td>\n",
       "    </tr>\n",
       "    <tr>\n",
       "      <th>4</th>\n",
       "      <td>8</td>\n",
       "      <td>2001: a space odyssey</td>\n",
       "      <td>2001: A SPACE ODYSSEY     Screenplay    by...</td>\n",
       "      <td>0</td>\n",
       "      <td>9</td>\n",
       "    </tr>\n",
       "  </tbody>\n",
       "</table>\n",
       "</div>"
      ],
      "text/plain": [
       "   Unnamed: 0                  title  \\\n",
       "0           0                warrior   \n",
       "1           1             collateral   \n",
       "2           6                  gamer   \n",
       "3           7                 wanted   \n",
       "4           8  2001: a space odyssey   \n",
       "\n",
       "                                              script  simple_bechdel  women  \n",
       "0                                  WARRIOR       ...               0     13  \n",
       "1                                           COLLA...               0      8  \n",
       "2                                GAMER           ...               0     24  \n",
       "3                                    WANTED      ...               0      7  \n",
       "4      2001: A SPACE ODYSSEY     Screenplay    by...               0      9  "
      ]
     },
     "execution_count": 3,
     "metadata": {},
     "output_type": "execute_result"
    }
   ],
   "source": [
    "bechdel_script_df.head()"
   ]
  },
  {
   "cell_type": "markdown",
   "id": "possible-aluminum",
   "metadata": {},
   "source": [
    "Here we are going to keep the features that we are going to use going forward."
   ]
  },
  {
   "cell_type": "code",
   "execution_count": 4,
   "id": "varying-doctrine",
   "metadata": {},
   "outputs": [],
   "source": [
    "bechdel_script_df.drop(columns=['Unnamed: 0'], axis =1 , inplace=True)"
   ]
  },
  {
   "cell_type": "code",
   "execution_count": 5,
   "id": "polished-ireland",
   "metadata": {},
   "outputs": [
    {
     "data": {
      "text/html": [
       "<div>\n",
       "<style scoped>\n",
       "    .dataframe tbody tr th:only-of-type {\n",
       "        vertical-align: middle;\n",
       "    }\n",
       "\n",
       "    .dataframe tbody tr th {\n",
       "        vertical-align: top;\n",
       "    }\n",
       "\n",
       "    .dataframe thead th {\n",
       "        text-align: right;\n",
       "    }\n",
       "</style>\n",
       "<table border=\"1\" class=\"dataframe\">\n",
       "  <thead>\n",
       "    <tr style=\"text-align: right;\">\n",
       "      <th></th>\n",
       "      <th>title</th>\n",
       "      <th>script</th>\n",
       "      <th>simple_bechdel</th>\n",
       "      <th>women</th>\n",
       "    </tr>\n",
       "  </thead>\n",
       "  <tbody>\n",
       "    <tr>\n",
       "      <th>0</th>\n",
       "      <td>warrior</td>\n",
       "      <td>WARRIOR       ...</td>\n",
       "      <td>0</td>\n",
       "      <td>13</td>\n",
       "    </tr>\n",
       "    <tr>\n",
       "      <th>1</th>\n",
       "      <td>collateral</td>\n",
       "      <td>COLLA...</td>\n",
       "      <td>0</td>\n",
       "      <td>8</td>\n",
       "    </tr>\n",
       "    <tr>\n",
       "      <th>2</th>\n",
       "      <td>gamer</td>\n",
       "      <td>GAMER           ...</td>\n",
       "      <td>0</td>\n",
       "      <td>24</td>\n",
       "    </tr>\n",
       "    <tr>\n",
       "      <th>3</th>\n",
       "      <td>wanted</td>\n",
       "      <td>WANTED      ...</td>\n",
       "      <td>0</td>\n",
       "      <td>7</td>\n",
       "    </tr>\n",
       "    <tr>\n",
       "      <th>4</th>\n",
       "      <td>2001: a space odyssey</td>\n",
       "      <td>2001: A SPACE ODYSSEY     Screenplay    by...</td>\n",
       "      <td>0</td>\n",
       "      <td>9</td>\n",
       "    </tr>\n",
       "  </tbody>\n",
       "</table>\n",
       "</div>"
      ],
      "text/plain": [
       "                   title                                             script  \\\n",
       "0                warrior                                  WARRIOR       ...   \n",
       "1             collateral                                           COLLA...   \n",
       "2                  gamer                                GAMER           ...   \n",
       "3                 wanted                                    WANTED      ...   \n",
       "4  2001: a space odyssey      2001: A SPACE ODYSSEY     Screenplay    by...   \n",
       "\n",
       "   simple_bechdel  women  \n",
       "0               0     13  \n",
       "1               0      8  \n",
       "2               0     24  \n",
       "3               0      7  \n",
       "4               0      9  "
      ]
     },
     "execution_count": 5,
     "metadata": {},
     "output_type": "execute_result"
    }
   ],
   "source": [
    "bechdel_script_df.head()"
   ]
  },
  {
   "cell_type": "code",
   "execution_count": 6,
   "id": "peripheral-australian",
   "metadata": {},
   "outputs": [
    {
     "data": {
      "text/html": [
       "<div>\n",
       "<style scoped>\n",
       "    .dataframe tbody tr th:only-of-type {\n",
       "        vertical-align: middle;\n",
       "    }\n",
       "\n",
       "    .dataframe tbody tr th {\n",
       "        vertical-align: top;\n",
       "    }\n",
       "\n",
       "    .dataframe thead th {\n",
       "        text-align: right;\n",
       "    }\n",
       "</style>\n",
       "<table border=\"1\" class=\"dataframe\">\n",
       "  <thead>\n",
       "    <tr style=\"text-align: right;\">\n",
       "      <th></th>\n",
       "      <th>script</th>\n",
       "      <th>simple_bechdel</th>\n",
       "      <th>women</th>\n",
       "    </tr>\n",
       "    <tr>\n",
       "      <th>title</th>\n",
       "      <th></th>\n",
       "      <th></th>\n",
       "      <th></th>\n",
       "    </tr>\n",
       "  </thead>\n",
       "  <tbody>\n",
       "    <tr>\n",
       "      <th>warrior</th>\n",
       "      <td>WARRIOR       ...</td>\n",
       "      <td>0</td>\n",
       "      <td>13</td>\n",
       "    </tr>\n",
       "    <tr>\n",
       "      <th>collateral</th>\n",
       "      <td>COLLA...</td>\n",
       "      <td>0</td>\n",
       "      <td>8</td>\n",
       "    </tr>\n",
       "    <tr>\n",
       "      <th>gamer</th>\n",
       "      <td>GAMER           ...</td>\n",
       "      <td>0</td>\n",
       "      <td>24</td>\n",
       "    </tr>\n",
       "    <tr>\n",
       "      <th>wanted</th>\n",
       "      <td>WANTED      ...</td>\n",
       "      <td>0</td>\n",
       "      <td>7</td>\n",
       "    </tr>\n",
       "    <tr>\n",
       "      <th>2001: a space odyssey</th>\n",
       "      <td>2001: A SPACE ODYSSEY     Screenplay    by...</td>\n",
       "      <td>0</td>\n",
       "      <td>9</td>\n",
       "    </tr>\n",
       "    <tr>\n",
       "      <th>...</th>\n",
       "      <td>...</td>\n",
       "      <td>...</td>\n",
       "      <td>...</td>\n",
       "    </tr>\n",
       "    <tr>\n",
       "      <th>shakespeare in love</th>\n",
       "      <td>SHAKESPEARE IN LOVE ...</td>\n",
       "      <td>1</td>\n",
       "      <td>12</td>\n",
       "    </tr>\n",
       "    <tr>\n",
       "      <th>surrogates</th>\n",
       "      <td>SURROGATES  ...</td>\n",
       "      <td>0</td>\n",
       "      <td>13</td>\n",
       "    </tr>\n",
       "    <tr>\n",
       "      <th>smashed</th>\n",
       "      <td>SMASHED         ...</td>\n",
       "      <td>1</td>\n",
       "      <td>16</td>\n",
       "    </tr>\n",
       "    <tr>\n",
       "      <th>we own  night</th>\n",
       "      <td>WE OWN THE NI...</td>\n",
       "      <td>0</td>\n",
       "      <td>21</td>\n",
       "    </tr>\n",
       "    <tr>\n",
       "      <th>misery</th>\n",
       "      <td>MISER...</td>\n",
       "      <td>0</td>\n",
       "      <td>5</td>\n",
       "    </tr>\n",
       "  </tbody>\n",
       "</table>\n",
       "<p>464 rows × 3 columns</p>\n",
       "</div>"
      ],
      "text/plain": [
       "                                                                  script  \\\n",
       "title                                                                      \n",
       "warrior                                                WARRIOR       ...   \n",
       "collateral                                                      COLLA...   \n",
       "gamer                                                GAMER           ...   \n",
       "wanted                                                   WANTED      ...   \n",
       "2001: a space odyssey      2001: A SPACE ODYSSEY     Screenplay    by...   \n",
       "...                                                                  ...   \n",
       "shakespeare in love                              SHAKESPEARE IN LOVE ...   \n",
       "surrogates                                               SURROGATES  ...   \n",
       "smashed                                              SMASHED         ...   \n",
       "we own  night                                           WE OWN THE NI...   \n",
       "misery                                                          MISER...   \n",
       "\n",
       "                       simple_bechdel  women  \n",
       "title                                         \n",
       "warrior                             0     13  \n",
       "collateral                          0      8  \n",
       "gamer                               0     24  \n",
       "wanted                              0      7  \n",
       "2001: a space odyssey               0      9  \n",
       "...                               ...    ...  \n",
       "shakespeare in love                 1     12  \n",
       "surrogates                          0     13  \n",
       "smashed                             1     16  \n",
       "we own  night                       0     21  \n",
       "misery                              0      5  \n",
       "\n",
       "[464 rows x 3 columns]"
      ]
     },
     "execution_count": 6,
     "metadata": {},
     "output_type": "execute_result"
    }
   ],
   "source": [
    "bechdel_script_df.set_index('title')"
   ]
  },
  {
   "cell_type": "markdown",
   "id": "cellular-inspector",
   "metadata": {},
   "source": [
    "### Splitting Info Into Two Dataframes\n",
    "\n",
    "For the purpose of EDA, we are going to split the dataframe in two to see the difference between scripts that pass The Bechdel Test and scripts that don't."
   ]
  },
  {
   "cell_type": "code",
   "execution_count": 7,
   "id": "infectious-clinic",
   "metadata": {},
   "outputs": [],
   "source": [
    "bechdel_pass_df = bechdel_script_df.query('simple_bechdel == 1')\n",
    "bechdel_fail_df = bechdel_script_df.query('simple_bechdel == 0')"
   ]
  },
  {
   "cell_type": "code",
   "execution_count": 8,
   "id": "external-triangle",
   "metadata": {},
   "outputs": [
    {
     "data": {
      "text/html": [
       "<div>\n",
       "<style scoped>\n",
       "    .dataframe tbody tr th:only-of-type {\n",
       "        vertical-align: middle;\n",
       "    }\n",
       "\n",
       "    .dataframe tbody tr th {\n",
       "        vertical-align: top;\n",
       "    }\n",
       "\n",
       "    .dataframe thead th {\n",
       "        text-align: right;\n",
       "    }\n",
       "</style>\n",
       "<table border=\"1\" class=\"dataframe\">\n",
       "  <thead>\n",
       "    <tr style=\"text-align: right;\">\n",
       "      <th></th>\n",
       "      <th>title</th>\n",
       "      <th>script</th>\n",
       "      <th>simple_bechdel</th>\n",
       "      <th>women</th>\n",
       "    </tr>\n",
       "  </thead>\n",
       "  <tbody>\n",
       "    <tr>\n",
       "      <th>5</th>\n",
       "      <td>cruel intentions</td>\n",
       "      <td>CRUEL INTENTIONS   ...</td>\n",
       "      <td>1</td>\n",
       "      <td>9</td>\n",
       "    </tr>\n",
       "    <tr>\n",
       "      <th>6</th>\n",
       "      <td>blast from  past</td>\n",
       "      <td>BLAST FROM THE PAST - by Bill Kelly and Hugh W...</td>\n",
       "      <td>1</td>\n",
       "      <td>21</td>\n",
       "    </tr>\n",
       "    <tr>\n",
       "      <th>7</th>\n",
       "      <td>ed wood</td>\n",
       "      <td>ED WOOD          ...</td>\n",
       "      <td>1</td>\n",
       "      <td>17</td>\n",
       "    </tr>\n",
       "    <tr>\n",
       "      <th>9</th>\n",
       "      <td>queen of  damned</td>\n",
       "      <td>QUEEN OF THE DAMNED           Written by...</td>\n",
       "      <td>1</td>\n",
       "      <td>9</td>\n",
       "    </tr>\n",
       "    <tr>\n",
       "      <th>11</th>\n",
       "      <td>almost famous</td>\n",
       "      <td>ALMOST FAMOUS  Cameron Crowe  December, 1998 U...</td>\n",
       "      <td>1</td>\n",
       "      <td>17</td>\n",
       "    </tr>\n",
       "  </tbody>\n",
       "</table>\n",
       "</div>"
      ],
      "text/plain": [
       "               title                                             script  \\\n",
       "5   cruel intentions                             CRUEL INTENTIONS   ...   \n",
       "6   blast from  past  BLAST FROM THE PAST - by Bill Kelly and Hugh W...   \n",
       "7            ed wood                               ED WOOD          ...   \n",
       "9   queen of  damned        QUEEN OF THE DAMNED           Written by...   \n",
       "11     almost famous  ALMOST FAMOUS  Cameron Crowe  December, 1998 U...   \n",
       "\n",
       "    simple_bechdel  women  \n",
       "5                1      9  \n",
       "6                1     21  \n",
       "7                1     17  \n",
       "9                1      9  \n",
       "11               1     17  "
      ]
     },
     "execution_count": 8,
     "metadata": {},
     "output_type": "execute_result"
    }
   ],
   "source": [
    "bechdel_pass_df.head()"
   ]
  },
  {
   "cell_type": "code",
   "execution_count": 9,
   "id": "ambient-merchant",
   "metadata": {},
   "outputs": [
    {
     "data": {
      "text/html": [
       "<div>\n",
       "<style scoped>\n",
       "    .dataframe tbody tr th:only-of-type {\n",
       "        vertical-align: middle;\n",
       "    }\n",
       "\n",
       "    .dataframe tbody tr th {\n",
       "        vertical-align: top;\n",
       "    }\n",
       "\n",
       "    .dataframe thead th {\n",
       "        text-align: right;\n",
       "    }\n",
       "</style>\n",
       "<table border=\"1\" class=\"dataframe\">\n",
       "  <thead>\n",
       "    <tr style=\"text-align: right;\">\n",
       "      <th></th>\n",
       "      <th>title</th>\n",
       "      <th>script</th>\n",
       "      <th>simple_bechdel</th>\n",
       "      <th>women</th>\n",
       "    </tr>\n",
       "  </thead>\n",
       "  <tbody>\n",
       "    <tr>\n",
       "      <th>0</th>\n",
       "      <td>warrior</td>\n",
       "      <td>WARRIOR       ...</td>\n",
       "      <td>0</td>\n",
       "      <td>13</td>\n",
       "    </tr>\n",
       "    <tr>\n",
       "      <th>1</th>\n",
       "      <td>collateral</td>\n",
       "      <td>COLLA...</td>\n",
       "      <td>0</td>\n",
       "      <td>8</td>\n",
       "    </tr>\n",
       "    <tr>\n",
       "      <th>2</th>\n",
       "      <td>gamer</td>\n",
       "      <td>GAMER           ...</td>\n",
       "      <td>0</td>\n",
       "      <td>24</td>\n",
       "    </tr>\n",
       "    <tr>\n",
       "      <th>3</th>\n",
       "      <td>wanted</td>\n",
       "      <td>WANTED      ...</td>\n",
       "      <td>0</td>\n",
       "      <td>7</td>\n",
       "    </tr>\n",
       "    <tr>\n",
       "      <th>4</th>\n",
       "      <td>2001: a space odyssey</td>\n",
       "      <td>2001: A SPACE ODYSSEY     Screenplay    by...</td>\n",
       "      <td>0</td>\n",
       "      <td>9</td>\n",
       "    </tr>\n",
       "  </tbody>\n",
       "</table>\n",
       "</div>"
      ],
      "text/plain": [
       "                   title                                             script  \\\n",
       "0                warrior                                  WARRIOR       ...   \n",
       "1             collateral                                           COLLA...   \n",
       "2                  gamer                                GAMER           ...   \n",
       "3                 wanted                                    WANTED      ...   \n",
       "4  2001: a space odyssey      2001: A SPACE ODYSSEY     Screenplay    by...   \n",
       "\n",
       "   simple_bechdel  women  \n",
       "0               0     13  \n",
       "1               0      8  \n",
       "2               0     24  \n",
       "3               0      7  \n",
       "4               0      9  "
      ]
     },
     "execution_count": 9,
     "metadata": {},
     "output_type": "execute_result"
    }
   ],
   "source": [
    "bechdel_fail_df.head()"
   ]
  },
  {
   "cell_type": "markdown",
   "id": "oriented-visiting",
   "metadata": {},
   "source": [
    "#### We have some additional stop words that need to be removed:\n",
    "\n",
    "I am going to include these below"
   ]
  },
  {
   "cell_type": "code",
   "execution_count": 10,
   "id": "manufactured-mentor",
   "metadata": {},
   "outputs": [],
   "source": [
    "extra_stop_words = ['ve', 'int', 'ext', 'just', 'don', 'know', 'like', 'day', 'continued', 'got', 'away', 'looks', 'cont',\n",
    "                    'door', 'll', 'night', 'room', 'right', 'look', 'www', 'pdf', 'little', 'house', 'eyes', 'face',\n",
    "                    'screentalk', 'later', 'revs', '03', '10', '12', '21', 'draft', 'screening', 'script', 'revised']"
   ]
  },
  {
   "cell_type": "code",
   "execution_count": 11,
   "id": "ranking-climate",
   "metadata": {},
   "outputs": [],
   "source": [
    "stop_words = text.ENGLISH_STOP_WORDS.union(extra_stop_words)"
   ]
  },
  {
   "cell_type": "code",
   "execution_count": 12,
   "id": "elder-profession",
   "metadata": {},
   "outputs": [],
   "source": [
    "bechdel_pass_cvec = CountVectorizer(stop_words= stop_words)\n",
    "bechdel_fail_cvec = CountVectorizer(stop_words= stop_words)"
   ]
  },
  {
   "cell_type": "code",
   "execution_count": 13,
   "id": "worst-queue",
   "metadata": {},
   "outputs": [],
   "source": [
    "pass_bechdel_cvec = bechdel_pass_cvec.fit_transform(bechdel_pass_df['script'])\n",
    "fail_bechdel_cvec = bechdel_fail_cvec.fit_transform(bechdel_fail_df['script'])"
   ]
  },
  {
   "cell_type": "code",
   "execution_count": 14,
   "id": "portuguese-jenny",
   "metadata": {},
   "outputs": [
    {
     "data": {
      "text/plain": [
       "<240x76198 sparse matrix of type '<class 'numpy.int64'>'\n",
       "\twith 760428 stored elements in Compressed Sparse Row format>"
      ]
     },
     "execution_count": 14,
     "metadata": {},
     "output_type": "execute_result"
    }
   ],
   "source": [
    "pass_bechdel_cvec"
   ]
  },
  {
   "cell_type": "code",
   "execution_count": 15,
   "id": "northern-distributor",
   "metadata": {},
   "outputs": [
    {
     "data": {
      "text/plain": [
       "<224x70840 sparse matrix of type '<class 'numpy.int64'>'\n",
       "\twith 718568 stored elements in Compressed Sparse Row format>"
      ]
     },
     "execution_count": 15,
     "metadata": {},
     "output_type": "execute_result"
    }
   ],
   "source": [
    "fail_bechdel_cvec"
   ]
  },
  {
   "cell_type": "code",
   "execution_count": 16,
   "id": "foster-community",
   "metadata": {},
   "outputs": [],
   "source": [
    "pass_bechdel_cvec_df = pd.DataFrame(pass_bechdel_cvec.todense(), columns=bechdel_pass_cvec.get_feature_names())\n",
    "fail_bechdel_cvec_df = pd.DataFrame(fail_bechdel_cvec.todense(), columns=bechdel_fail_cvec.get_feature_names())"
   ]
  },
  {
   "cell_type": "code",
   "execution_count": 17,
   "id": "average-malta",
   "metadata": {},
   "outputs": [
    {
     "data": {
      "text/plain": [
       "man        7811\n",
       "oh         7639\n",
       "turns      7635\n",
       "going      7589\n",
       "want       7295\n",
       "think      7178\n",
       "time       7171\n",
       "hand       6720\n",
       "car        6538\n",
       "come       6530\n",
       "head       6442\n",
       "good       6231\n",
       "takes      6037\n",
       "cut        5985\n",
       "way        5955\n",
       "did        5756\n",
       "yeah       5446\n",
       "let        5325\n",
       "looking    4956\n",
       "mr         4868\n",
       "phone      4758\n",
       "walks      4738\n",
       "say        4734\n",
       "open       4724\n",
       "really     4679\n",
       "dtype: int64"
      ]
     },
     "execution_count": 17,
     "metadata": {},
     "output_type": "execute_result"
    }
   ],
   "source": [
    "pass_bechdel_cvec_df.sum().sort_values(ascending=False).head(25)"
   ]
  },
  {
   "cell_type": "code",
   "execution_count": 18,
   "id": "caring-closer",
   "metadata": {},
   "outputs": [
    {
     "data": {
      "text/plain": [
       "man        10141\n",
       "cut         7387\n",
       "turns       6970\n",
       "time        6691\n",
       "head        6647\n",
       "car         6577\n",
       "going       6260\n",
       "hand        6232\n",
       "want        6229\n",
       "come        5991\n",
       "think       5865\n",
       "way         5730\n",
       "good        5456\n",
       "takes       5251\n",
       "jack        4701\n",
       "looking     4672\n",
       "did         4668\n",
       "pulls       4592\n",
       "beat        4539\n",
       "let         4522\n",
       "hands       4364\n",
       "walks       4319\n",
       "open        4305\n",
       "oh          4257\n",
       "phone       4222\n",
       "dtype: int64"
      ]
     },
     "execution_count": 18,
     "metadata": {},
     "output_type": "execute_result"
    }
   ],
   "source": [
    "fail_bechdel_cvec_df.sum().sort_values(ascending=False).head(25)"
   ]
  },
  {
   "cell_type": "markdown",
   "id": "demonstrated-joining",
   "metadata": {},
   "source": [
    "# Exploratory Data Analysis\n",
    "\n",
    "Let's explore bi-grams to see the overall difference in word usage."
   ]
  },
  {
   "cell_type": "code",
   "execution_count": 19,
   "id": "regulation-blogger",
   "metadata": {},
   "outputs": [
    {
     "data": {
      "text/plain": [
       "<240x1872370 sparse matrix of type '<class 'numpy.int64'>'\n",
       "\twith 2342185 stored elements in Compressed Sparse Row format>"
      ]
     },
     "execution_count": 19,
     "metadata": {},
     "output_type": "execute_result"
    }
   ],
   "source": [
    "bigram_bechdel_pass = CountVectorizer(ngram_range=(2,2), stop_words=stop_words)\n",
    "bigram_bechdel_pass_x = bigram_bechdel_pass.fit_transform(bechdel_pass_df['script'])\n",
    "bigram_bechdel_pass_x"
   ]
  },
  {
   "cell_type": "code",
   "execution_count": 20,
   "id": "existing-extent",
   "metadata": {},
   "outputs": [],
   "source": [
    "bigram_bechdel_pass_df = pd.DataFrame(bigram_bechdel_pass_x.todense(), columns=bigram_bechdel_pass.get_feature_names())"
   ]
  },
  {
   "cell_type": "code",
   "execution_count": 21,
   "id": "objective-montgomery",
   "metadata": {},
   "outputs": [
    {
     "data": {
      "image/png": "[encoded data removed]",
      "text/plain": [
       "<Figure size 1152x864 with 1 Axes>"
      ]
     },
     "metadata": {
      "needs_background": "light"
     },
     "output_type": "display_data"
    }
   ],
   "source": [
    "plt.figure(figsize=(16,12))\n",
    "plt.title('25 Most Common bigrams of films that pass', fontdict={'fontsize':18})\n",
    "bigram_bechdel_pass_df.sum().sort_values(ascending=False).head(25).plot(kind='barh');"
   ]
  },
  {
   "cell_type": "markdown",
   "id": "knowing-pillow",
   "metadata": {},
   "source": [
    "##### Bigrams for films that fail The Bechdel Test"
   ]
  },
  {
   "cell_type": "code",
   "execution_count": 22,
   "id": "understanding-possibility",
   "metadata": {},
   "outputs": [
    {
     "data": {
      "text/plain": [
       "<224x1769262 sparse matrix of type '<class 'numpy.int64'>'\n",
       "\twith 2191872 stored elements in Compressed Sparse Row format>"
      ]
     },
     "execution_count": 22,
     "metadata": {},
     "output_type": "execute_result"
    }
   ],
   "source": [
    "bigram_bechdel_fail = CountVectorizer(ngram_range=(2,2), stop_words=stop_words)\n",
    "bigram_bechdel_fail_x = bigram_bechdel_fail.fit_transform(bechdel_fail_df['script'])\n",
    "bigram_bechdel_fail_x"
   ]
  },
  {
   "cell_type": "code",
   "execution_count": 23,
   "id": "aggregate-saturday",
   "metadata": {},
   "outputs": [],
   "source": [
    "bigram_bechdel_fail_df = pd.DataFrame(bigram_bechdel_fail_x.todense(), columns=bigram_bechdel_fail.get_feature_names())"
   ]
  },
  {
   "cell_type": "code",
   "execution_count": 24,
   "id": "embedded-policy",
   "metadata": {},
   "outputs": [
    {
     "data": {
      "image/png": "[encoded data removed]",
      "text/plain": [
       "<Figure size 1152x864 with 1 Axes>"
      ]
     },
     "metadata": {
      "needs_background": "light"
     },
     "output_type": "display_data"
    }
   ],
   "source": [
    "plt.figure(figsize=(16,12))\n",
    "plt.title('25 Most Common bigrams of films that fail', fontdict={'fontsize':18})\n",
    "bigram_bechdel_fail_df.sum().sort_values(ascending=False).head(25).plot(kind='barh');"
   ]
  },
  {
   "cell_type": "markdown",
   "id": "offshore-bubble",
   "metadata": {},
   "source": [
    "### Let's explore the data through some trigrams:\n",
    "\n",
    "I think the combination of words into phrases could be useful here."
   ]
  },
  {
   "cell_type": "code",
   "execution_count": 25,
   "id": "collective-denmark",
   "metadata": {},
   "outputs": [
    {
     "data": {
      "text/plain": [
       "<240x2651126 sparse matrix of type '<class 'numpy.int64'>'\n",
       "\twith 2674948 stored elements in Compressed Sparse Row format>"
      ]
     },
     "execution_count": 25,
     "metadata": {},
     "output_type": "execute_result"
    }
   ],
   "source": [
    "trigram_bechdel_pass = CountVectorizer(ngram_range=(3,3), stop_words=stop_words)\n",
    "trigram_pass_x = trigram_bechdel_pass.fit_transform(bechdel_pass_df['script'])\n",
    "trigram_pass_x"
   ]
  },
  {
   "cell_type": "code",
   "execution_count": 26,
   "id": "happy-slide",
   "metadata": {},
   "outputs": [],
   "source": [
    "trigram_bechdel_pass_df = pd.DataFrame(trigram_pass_x.todense(), columns=trigram_bechdel_pass.get_feature_names())"
   ]
  },
  {
   "cell_type": "code",
   "execution_count": 27,
   "id": "hybrid-constitution",
   "metadata": {},
   "outputs": [
    {
     "data": {
      "image/png": "[encoded data removed]",
      "text/plain": [
       "<Figure size 1152x864 with 1 Axes>"
      ]
     },
     "metadata": {
      "needs_background": "light"
     },
     "output_type": "display_data"
    }
   ],
   "source": [
    "plt.figure(figsize=(16,12))\n",
    "plt.title('25 most common trigrams in films that pass')\n",
    "trigram_bechdel_pass_df.sum().sort_values(ascending=False).head(25).plot(kind='barh');"
   ]
  },
  {
   "cell_type": "code",
   "execution_count": 28,
   "id": "located-egyptian",
   "metadata": {},
   "outputs": [
    {
     "data": {
      "text/plain": [
       "<224x2471347 sparse matrix of type '<class 'numpy.int64'>'\n",
       "\twith 2491884 stored elements in Compressed Sparse Row format>"
      ]
     },
     "execution_count": 28,
     "metadata": {},
     "output_type": "execute_result"
    }
   ],
   "source": [
    "trigram_bechdel_fail = CountVectorizer(ngram_range=(3,3), stop_words=stop_words)\n",
    "trigram_fail_x = trigram_bechdel_fail.fit_transform(bechdel_fail_df['script'])\n",
    "trigram_fail_x"
   ]
  },
  {
   "cell_type": "code",
   "execution_count": 29,
   "id": "animated-highlight",
   "metadata": {},
   "outputs": [],
   "source": [
    "trigram_bechdel_fail_df = pd.DataFrame(trigram_fail_x.todense(), columns=trigram_bechdel_fail.get_feature_names())"
   ]
  },
  {
   "cell_type": "code",
   "execution_count": 30,
   "id": "silent-lesbian",
   "metadata": {},
   "outputs": [
    {
     "data": {
      "image/png": "[encoded data removed]",
      "text/plain": [
       "<Figure size 1152x864 with 1 Axes>"
      ]
     },
     "metadata": {
      "needs_background": "light"
     },
     "output_type": "display_data"
    }
   ],
   "source": [
    "plt.figure(figsize=(16,12))\n",
    "plt.title('25 most common trigrams in films that fail')\n",
    "trigram_bechdel_fail_df.sum().sort_values(ascending=False).head(25).plot(kind='barh');"
   ]
  },
  {
   "cell_type": "markdown",
   "id": "proof-direction",
   "metadata": {},
   "source": [
    "Exploring bigrams and trigrams has been useful in cleaning up the data and removing stop words for modeling."
   ]
  },
  {
   "cell_type": "markdown",
   "id": "steady-effectiveness",
   "metadata": {},
   "source": [
    "### Exploring Topic Modeling\n",
    "\n",
    "Below we are going to explore the differences between scripts that pass The Bechdel Test and scripts that don't. There could likely be a difference in what is discussed across them. Let's see what comes of it."
   ]
  },
  {
   "cell_type": "code",
   "execution_count": null,
   "id": "reflected-arena",
   "metadata": {},
   "outputs": [],
   "source": []
  },
  {
   "cell_type": "code",
   "execution_count": null,
   "id": "recognized-silly",
   "metadata": {},
   "outputs": [],
   "source": []
  },
  {
   "cell_type": "code",
   "execution_count": null,
   "id": "false-zealand",
   "metadata": {},
   "outputs": [],
   "source": []
  },
  {
   "cell_type": "code",
   "execution_count": null,
   "id": "educated-teens",
   "metadata": {},
   "outputs": [],
   "source": []
  },
  {
   "cell_type": "code",
   "execution_count": null,
   "id": "olive-count",
   "metadata": {},
   "outputs": [],
   "source": []
  },
  {
   "cell_type": "code",
   "execution_count": null,
   "id": "comprehensive-enterprise",
   "metadata": {},
   "outputs": [],
   "source": []
  },
  {
   "cell_type": "markdown",
   "id": "unknown-gregory",
   "metadata": {},
   "source": [
    "# The Modeling Begins!"
   ]
  },
  {
   "cell_type": "code",
   "execution_count": 31,
   "id": "traditional-schedule",
   "metadata": {},
   "outputs": [],
   "source": [
    "X = bechdel_script_df['script']\n",
    "y = bechdel_script_df['simple_bechdel']\n",
    "\n",
    "# Split the data into the training and testing sets.\n",
    "X_train, X_test, y_train, y_test = train_test_split(X,y, random_state=42)"
   ]
  },
  {
   "cell_type": "code",
   "execution_count": 32,
   "id": "capital-namibia",
   "metadata": {},
   "outputs": [],
   "source": [
    "pipe = Pipeline([\n",
    "    ('cvec', CountVectorizer(stop_words=stop_words)),\n",
    "    ('logreg', LogisticRegression())\n",
    "        \n",
    "])"
   ]
  },
  {
   "cell_type": "code",
   "execution_count": 33,
   "id": "casual-sense",
   "metadata": {},
   "outputs": [
    {
     "data": {
      "text/plain": [
       "Pipeline(steps=[('cvec',\n",
       "                 CountVectorizer(stop_words=frozenset({'03', '10', '12', '21',\n",
       "                                                       'a', 'about', 'above',\n",
       "                                                       'across', 'after',\n",
       "                                                       'afterwards', 'again',\n",
       "                                                       'against', 'all',\n",
       "                                                       'almost', 'alone',\n",
       "                                                       'along', 'already',\n",
       "                                                       'also', 'although',\n",
       "                                                       'always', 'am', 'among',\n",
       "                                                       'amongst', 'amoungst',\n",
       "                                                       'amount', 'an', 'and',\n",
       "                                                       'another', 'any',\n",
       "                                                       'anyhow', ...}))),\n",
       "                ('logreg', LogisticRegression())])"
      ]
     },
     "execution_count": 33,
     "metadata": {},
     "output_type": "execute_result"
    }
   ],
   "source": [
    "pipe.fit(X_train, y_train)"
   ]
  },
  {
   "cell_type": "code",
   "execution_count": 34,
   "id": "governing-subscriber",
   "metadata": {},
   "outputs": [
    {
     "data": {
      "text/plain": [
       "1.0"
      ]
     },
     "execution_count": 34,
     "metadata": {},
     "output_type": "execute_result"
    }
   ],
   "source": [
    "pipe.score(X_train, y_train)"
   ]
  },
  {
   "cell_type": "code",
   "execution_count": 35,
   "id": "accompanied-pregnancy",
   "metadata": {},
   "outputs": [
    {
     "data": {
      "text/plain": [
       "0.6206896551724138"
      ]
     },
     "execution_count": 35,
     "metadata": {},
     "output_type": "execute_result"
    }
   ],
   "source": [
    "pipe.score(X_test, y_test)"
   ]
  },
  {
   "cell_type": "markdown",
   "id": "passive-detroit",
   "metadata": {},
   "source": [
    "1?!?! It appears my model is overfit. I am curious as to what is causing the difference."
   ]
  },
  {
   "cell_type": "code",
   "execution_count": 36,
   "id": "verbal-procurement",
   "metadata": {},
   "outputs": [],
   "source": [
    "preds = pipe.predict(X_test)"
   ]
  },
  {
   "cell_type": "code",
   "execution_count": 37,
   "id": "frequent-stevens",
   "metadata": {},
   "outputs": [
    {
     "data": {
      "image/png": "[encoded data removed]",
      "text/plain": [
       "<Figure size 432x288 with 2 Axes>"
      ]
     },
     "metadata": {
      "needs_background": "light"
     },
     "output_type": "display_data"
    }
   ],
   "source": [
    "cm = confusion_matrix(y_test, preds)\n",
    "tn, fp, fn, tp = cm.ravel()\n",
    "ConfusionMatrixDisplay(cm).plot()\n",
    "plt.title('cvec logreg Confusion Matrix');"
   ]
  },
  {
   "cell_type": "code",
   "execution_count": 38,
   "id": "threaded-marble",
   "metadata": {},
   "outputs": [
    {
     "name": "stdout",
     "output_type": "stream",
     "text": [
      "              precision    recall  f1-score   support\n",
      "\n",
      "           0       0.62      0.58      0.60        57\n",
      "           1       0.62      0.66      0.64        59\n",
      "\n",
      "    accuracy                           0.62       116\n",
      "   macro avg       0.62      0.62      0.62       116\n",
      "weighted avg       0.62      0.62      0.62       116\n",
      "\n"
     ]
    }
   ],
   "source": [
    "print(classification_report(y_test, preds))"
   ]
  },
  {
   "cell_type": "markdown",
   "id": "printable-participation",
   "metadata": {},
   "source": [
    "### Let's try Tfid and Logistic Regression"
   ]
  },
  {
   "cell_type": "code",
   "execution_count": 39,
   "id": "bored-arizona",
   "metadata": {},
   "outputs": [],
   "source": [
    "pipe_tfid_logreg = Pipeline([\n",
    "    ('tvec', TfidfVectorizer(stop_words= stop_words)),\n",
    "    ('logreg', LogisticRegression())\n",
    "        \n",
    "])"
   ]
  },
  {
   "cell_type": "code",
   "execution_count": 40,
   "id": "artificial-testimony",
   "metadata": {},
   "outputs": [
    {
     "data": {
      "text/plain": [
       "Pipeline(steps=[('tvec',\n",
       "                 TfidfVectorizer(stop_words=frozenset({'03', '10', '12', '21',\n",
       "                                                       'a', 'about', 'above',\n",
       "                                                       'across', 'after',\n",
       "                                                       'afterwards', 'again',\n",
       "                                                       'against', 'all',\n",
       "                                                       'almost', 'alone',\n",
       "                                                       'along', 'already',\n",
       "                                                       'also', 'although',\n",
       "                                                       'always', 'am', 'among',\n",
       "                                                       'amongst', 'amoungst',\n",
       "                                                       'amount', 'an', 'and',\n",
       "                                                       'another', 'any',\n",
       "                                                       'anyhow', ...}))),\n",
       "                ('logreg', LogisticRegression())])"
      ]
     },
     "execution_count": 40,
     "metadata": {},
     "output_type": "execute_result"
    }
   ],
   "source": [
    "pipe_tfid_logreg.fit(X_train, y_train)"
   ]
  },
  {
   "cell_type": "code",
   "execution_count": 41,
   "id": "premium-waste",
   "metadata": {},
   "outputs": [
    {
     "data": {
      "text/plain": [
       "0.9885057471264368"
      ]
     },
     "execution_count": 41,
     "metadata": {},
     "output_type": "execute_result"
    }
   ],
   "source": [
    "pipe_tfid_logreg.score(X_train, y_train)"
   ]
  },
  {
   "cell_type": "code",
   "execution_count": 42,
   "id": "handy-young",
   "metadata": {},
   "outputs": [
    {
     "data": {
      "text/plain": [
       "0.5258620689655172"
      ]
     },
     "execution_count": 42,
     "metadata": {},
     "output_type": "execute_result"
    }
   ],
   "source": [
    "pipe_tfid_logreg.score(X_test, y_test)"
   ]
  },
  {
   "cell_type": "code",
   "execution_count": 43,
   "id": "perceived-harvard",
   "metadata": {},
   "outputs": [],
   "source": [
    "preds_tfid_logreg = pipe.predict(X_test)"
   ]
  },
  {
   "cell_type": "code",
   "execution_count": 44,
   "id": "opposite-intervention",
   "metadata": {},
   "outputs": [
    {
     "data": {
      "image/png": "[encoded data removed]",
      "text/plain": [
       "<Figure size 432x288 with 2 Axes>"
      ]
     },
     "metadata": {
      "needs_background": "light"
     },
     "output_type": "display_data"
    }
   ],
   "source": [
    "cm = confusion_matrix(y_test, preds_tfid_logreg)\n",
    "tn, fp, fn, tp = cm.ravel()\n",
    "ConfusionMatrixDisplay(cm).plot()\n",
    "plt.title('tfid logreg Confusion Matrix');"
   ]
  },
  {
   "cell_type": "code",
   "execution_count": 45,
   "id": "electric-fountain",
   "metadata": {},
   "outputs": [
    {
     "name": "stdout",
     "output_type": "stream",
     "text": [
      "              precision    recall  f1-score   support\n",
      "\n",
      "           0       0.62      0.58      0.60        57\n",
      "           1       0.62      0.66      0.64        59\n",
      "\n",
      "    accuracy                           0.62       116\n",
      "   macro avg       0.62      0.62      0.62       116\n",
      "weighted avg       0.62      0.62      0.62       116\n",
      "\n"
     ]
    }
   ],
   "source": [
    "print(classification_report(y_test, preds_tfid_logreg))"
   ]
  },
  {
   "cell_type": "markdown",
   "id": "twelve-launch",
   "metadata": {},
   "source": [
    "#### Let's try out another model: TfidfVectorizer with Bernoulli Naive Bayes"
   ]
  },
  {
   "cell_type": "code",
   "execution_count": 46,
   "id": "theoretical-research",
   "metadata": {},
   "outputs": [],
   "source": [
    "pipe_tvec_nb = Pipeline([\n",
    "    ('tvec', TfidfVectorizer(stop_words= stop_words)),\n",
    "    ('nb', BernoulliNB())\n",
    "])"
   ]
  },
  {
   "cell_type": "code",
   "execution_count": 47,
   "id": "southwest-bridal",
   "metadata": {},
   "outputs": [
    {
     "data": {
      "text/plain": [
       "Pipeline(steps=[('tvec',\n",
       "                 TfidfVectorizer(stop_words=frozenset({'03', '10', '12', '21',\n",
       "                                                       'a', 'about', 'above',\n",
       "                                                       'across', 'after',\n",
       "                                                       'afterwards', 'again',\n",
       "                                                       'against', 'all',\n",
       "                                                       'almost', 'alone',\n",
       "                                                       'along', 'already',\n",
       "                                                       'also', 'although',\n",
       "                                                       'always', 'am', 'among',\n",
       "                                                       'amongst', 'amoungst',\n",
       "                                                       'amount', 'an', 'and',\n",
       "                                                       'another', 'any',\n",
       "                                                       'anyhow', ...}))),\n",
       "                ('nb', BernoulliNB())])"
      ]
     },
     "execution_count": 47,
     "metadata": {},
     "output_type": "execute_result"
    }
   ],
   "source": [
    "pipe_tvec_nb.fit(X_train, y_train)"
   ]
  },
  {
   "cell_type": "code",
   "execution_count": 48,
   "id": "hungarian-survival",
   "metadata": {},
   "outputs": [
    {
     "data": {
      "text/plain": [
       "0.9827586206896551"
      ]
     },
     "execution_count": 48,
     "metadata": {},
     "output_type": "execute_result"
    }
   ],
   "source": [
    "pipe_tvec_nb.score(X_train, y_train)"
   ]
  },
  {
   "cell_type": "code",
   "execution_count": 49,
   "id": "cardiovascular-tamil",
   "metadata": {},
   "outputs": [
    {
     "data": {
      "text/plain": [
       "0.5689655172413793"
      ]
     },
     "execution_count": 49,
     "metadata": {},
     "output_type": "execute_result"
    }
   ],
   "source": [
    "pipe_tvec_nb.score(X_test, y_test)"
   ]
  },
  {
   "cell_type": "markdown",
   "id": "assisted-shadow",
   "metadata": {},
   "source": [
    "Well, this is better than the information from the logistic regression and count vectorizer. At least we are now in the MVP territory!"
   ]
  },
  {
   "cell_type": "code",
   "execution_count": 50,
   "id": "plain-lemon",
   "metadata": {},
   "outputs": [],
   "source": [
    "pipe_tvec_nb_preds = pipe_tvec_nb.predict(X_test)"
   ]
  },
  {
   "cell_type": "code",
   "execution_count": 51,
   "id": "sonic-highlight",
   "metadata": {},
   "outputs": [
    {
     "data": {
      "image/png": "[encoded data removed]",
      "text/plain": [
       "<Figure size 432x288 with 2 Axes>"
      ]
     },
     "metadata": {
      "needs_background": "light"
     },
     "output_type": "display_data"
    }
   ],
   "source": [
    "cm = confusion_matrix(y_test, pipe_tvec_nb_preds)\n",
    "tn, fp, fn, tp = cm.ravel()\n",
    "ConfusionMatrixDisplay(cm).plot()\n",
    "plt.title('tvec Bernoulli NB Confusion Matrix');"
   ]
  },
  {
   "cell_type": "code",
   "execution_count": 52,
   "id": "innocent-reliance",
   "metadata": {},
   "outputs": [
    {
     "name": "stdout",
     "output_type": "stream",
     "text": [
      "              precision    recall  f1-score   support\n",
      "\n",
      "           0       0.57      0.51      0.54        57\n",
      "           1       0.57      0.63      0.60        59\n",
      "\n",
      "    accuracy                           0.57       116\n",
      "   macro avg       0.57      0.57      0.57       116\n",
      "weighted avg       0.57      0.57      0.57       116\n",
      "\n"
     ]
    }
   ],
   "source": [
    "print(classification_report(y_test, pipe_tvec_nb_preds))"
   ]
  },
  {
   "cell_type": "markdown",
   "id": "martial-palmer",
   "metadata": {},
   "source": [
    "#### Another K-NN model made that did not include GridSearch this time around, as I kept running my models as I cleaned the data and added stop words to the list.\n",
    "\n",
    "This model was included in my presentation."
   ]
  },
  {
   "cell_type": "code",
   "execution_count": 53,
   "id": "associate-monaco",
   "metadata": {},
   "outputs": [],
   "source": [
    "pipe_knn_2 = Pipeline([\n",
    "    ('cvec', CountVectorizer(stop_words=stop_words)),\n",
    "    ('knn', KNeighborsClassifier(n_neighbors=5))\n",
    "])"
   ]
  },
  {
   "cell_type": "code",
   "execution_count": 54,
   "id": "natural-gateway",
   "metadata": {},
   "outputs": [
    {
     "data": {
      "text/plain": [
       "Pipeline(steps=[('cvec',\n",
       "                 CountVectorizer(stop_words=frozenset({'03', '10', '12', '21',\n",
       "                                                       'a', 'about', 'above',\n",
       "                                                       'across', 'after',\n",
       "                                                       'afterwards', 'again',\n",
       "                                                       'against', 'all',\n",
       "                                                       'almost', 'alone',\n",
       "                                                       'along', 'already',\n",
       "                                                       'also', 'although',\n",
       "                                                       'always', 'am', 'among',\n",
       "                                                       'amongst', 'amoungst',\n",
       "                                                       'amount', 'an', 'and',\n",
       "                                                       'another', 'any',\n",
       "                                                       'anyhow', ...}))),\n",
       "                ('knn', KNeighborsClassifier())])"
      ]
     },
     "execution_count": 54,
     "metadata": {},
     "output_type": "execute_result"
    }
   ],
   "source": [
    "pipe_knn_2.fit(X_train, y_train)"
   ]
  },
  {
   "cell_type": "code",
   "execution_count": 55,
   "id": "executed-bullet",
   "metadata": {},
   "outputs": [
    {
     "data": {
      "text/plain": [
       "0.5862068965517241"
      ]
     },
     "execution_count": 55,
     "metadata": {},
     "output_type": "execute_result"
    }
   ],
   "source": [
    "pipe_knn_2.score(X_train, y_train)"
   ]
  },
  {
   "cell_type": "code",
   "execution_count": 56,
   "id": "hybrid-treasure",
   "metadata": {},
   "outputs": [
    {
     "data": {
      "text/plain": [
       "0.4827586206896552"
      ]
     },
     "execution_count": 56,
     "metadata": {},
     "output_type": "execute_result"
    }
   ],
   "source": [
    "pipe_knn_2.score(X_test, y_test)"
   ]
  },
  {
   "cell_type": "code",
   "execution_count": 57,
   "id": "editorial-needle",
   "metadata": {},
   "outputs": [],
   "source": [
    "knn_2_preds = pipe_knn_2.predict(X_test)"
   ]
  },
  {
   "cell_type": "code",
   "execution_count": 58,
   "id": "ranking-november",
   "metadata": {},
   "outputs": [
    {
     "name": "stdout",
     "output_type": "stream",
     "text": [
      "              precision    recall  f1-score   support\n",
      "\n",
      "           0       0.49      0.91      0.63        57\n",
      "           1       0.44      0.07      0.12        59\n",
      "\n",
      "    accuracy                           0.48       116\n",
      "   macro avg       0.47      0.49      0.38       116\n",
      "weighted avg       0.46      0.48      0.37       116\n",
      "\n"
     ]
    }
   ],
   "source": [
    "print(classification_report(y_test, knn_2_preds))"
   ]
  },
  {
   "cell_type": "code",
   "execution_count": 59,
   "id": "latest-jurisdiction",
   "metadata": {},
   "outputs": [
    {
     "data": {
      "image/png": "[encoded data removed]",
      "text/plain": [
       "<Figure size 432x288 with 2 Axes>"
      ]
     },
     "metadata": {
      "needs_background": "light"
     },
     "output_type": "display_data"
    }
   ],
   "source": [
    "cm = confusion_matrix(y_test, knn_2_preds)\n",
    "tn, fp, fn, tp = cm.ravel()\n",
    "ConfusionMatrixDisplay(cm).plot()\n",
    "plt.title('cvec KNN Confusion Matrix');"
   ]
  },
  {
   "cell_type": "markdown",
   "id": "balanced-harbor",
   "metadata": {},
   "source": [
    "This model has an incredibly bad recall score."
   ]
  }
 ],
 "metadata": {
  "kernelspec": {
   "display_name": "Python 3",
   "language": "python",
   "name": "python3"
  },
  "language_info": {
   "codemirror_mode": {
    "name": "ipython",
    "version": 3
   },
   "file_extension": ".py",
   "mimetype": "text/x-python",
   "name": "python",
   "nbconvert_exporter": "python",
   "pygments_lexer": "ipython3",
   "version": "3.8.8"
  }
 },
 "nbformat": 4,
 "nbformat_minor": 5
}
