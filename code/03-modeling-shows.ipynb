{
 "cells": [
  {
   "cell_type": "markdown",
   "id": "assumed-causing",
   "metadata": {},
   "source": [
    "# Modeling Notebook - Adapted From reddit binary classification\n",
    "\n",
    "We sprint through some things here to see if we can get to some sort of MVP on our capstone so we can then begin trying to improve upon things."
   ]
  },
  {
   "cell_type": "code",
   "execution_count": 1,
   "id": "cheap-prototype",
   "metadata": {},
   "outputs": [],
   "source": [
    "#Grabbing some mates\n",
    "\n",
    "import warnings #I receive an unsightly deprecation warning for matplotlib. This suppresses it\n",
    "warnings.filterwarnings(\"ignore\")\n",
    "\n",
    "import pandas as pd\n",
    "import numpy as np\n",
    "import matplotlib.pyplot as plt\n",
    "import seaborn as sns\n",
    "from sklearn.model_selection import train_test_split, cross_val_score, GridSearchCV\n",
    "from sklearn.neighbors import KNeighborsClassifier\n",
    "from sklearn.preprocessing import StandardScaler\n",
    "from sklearn.pipeline import Pipeline\n",
    "from sklearn.linear_model import LogisticRegression\n",
    "from sklearn.feature_extraction.text import CountVectorizer, TfidfVectorizer\n",
    "from sklearn.metrics import confusion_matrix, ConfusionMatrixDisplay, classification_report\n",
    "from sklearn.naive_bayes import BernoulliNB\n",
    "from pandas_profiling import ProfileReport\n",
    "\n",
    "from nltk.util import ngrams\n",
    "\n",
    "\n",
    "\n",
    "from sklearn.feature_extraction import text"
   ]
  },
  {
   "cell_type": "markdown",
   "id": "dress-biology",
   "metadata": {},
   "source": [
    "#### Importing my pulled data"
   ]
  },
  {
   "cell_type": "code",
   "execution_count": 2,
   "id": "democratic-integral",
   "metadata": {},
   "outputs": [],
   "source": [
    "bechdel_df = pd.read_csv('../data/bechdel_df.csv')"
   ]
  },
  {
   "cell_type": "code",
   "execution_count": 3,
   "id": "linear-leone",
   "metadata": {},
   "outputs": [
    {
     "data": {
      "text/html": [
       "<div>\n",
       "<style scoped>\n",
       "    .dataframe tbody tr th:only-of-type {\n",
       "        vertical-align: middle;\n",
       "    }\n",
       "\n",
       "    .dataframe tbody tr th {\n",
       "        vertical-align: top;\n",
       "    }\n",
       "\n",
       "    .dataframe thead th {\n",
       "        text-align: right;\n",
       "    }\n",
       "</style>\n",
       "<table border=\"1\" class=\"dataframe\">\n",
       "  <thead>\n",
       "    <tr style=\"text-align: right;\">\n",
       "      <th></th>\n",
       "      <th>Unnamed: 0</th>\n",
       "      <th>textscript</th>\n",
       "      <th>rating</th>\n",
       "      <th>title</th>\n",
       "      <th>year</th>\n",
       "      <th>imdbid</th>\n",
       "      <th>simple_bechdel</th>\n",
       "    </tr>\n",
       "  </thead>\n",
       "  <tbody>\n",
       "    <tr>\n",
       "      <th>0</th>\n",
       "      <td>0</td>\n",
       "      <td>WARRIOR       ...</td>\n",
       "      <td>1</td>\n",
       "      <td>warrior</td>\n",
       "      <td>2011</td>\n",
       "      <td>1291584.0</td>\n",
       "      <td>0</td>\n",
       "    </tr>\n",
       "    <tr>\n",
       "      <th>1</th>\n",
       "      <td>5</td>\n",
       "      <td>GAMER           ...</td>\n",
       "      <td>1</td>\n",
       "      <td>gamer</td>\n",
       "      <td>2009</td>\n",
       "      <td>1034032.0</td>\n",
       "      <td>0</td>\n",
       "    </tr>\n",
       "    <tr>\n",
       "      <th>2</th>\n",
       "      <td>6</td>\n",
       "      <td>WANTED      ...</td>\n",
       "      <td>1</td>\n",
       "      <td>wanted</td>\n",
       "      <td>2008</td>\n",
       "      <td>493464.0</td>\n",
       "      <td>0</td>\n",
       "    </tr>\n",
       "    <tr>\n",
       "      <th>3</th>\n",
       "      <td>7</td>\n",
       "      <td>2001: A SPACE ODYSSEY    Screenplay   by  ...</td>\n",
       "      <td>0</td>\n",
       "      <td>2001: a space odyssey</td>\n",
       "      <td>1968</td>\n",
       "      <td>62622.0</td>\n",
       "      <td>0</td>\n",
       "    </tr>\n",
       "    <tr>\n",
       "      <th>4</th>\n",
       "      <td>8</td>\n",
       "      <td>CRUEL INTENTIONS   ...</td>\n",
       "      <td>3</td>\n",
       "      <td>cruel intentions</td>\n",
       "      <td>1999</td>\n",
       "      <td>139134.0</td>\n",
       "      <td>1</td>\n",
       "    </tr>\n",
       "  </tbody>\n",
       "</table>\n",
       "</div>"
      ],
      "text/plain": [
       "   Unnamed: 0                                         textscript  rating  \\\n",
       "0           0                                  WARRIOR       ...       1   \n",
       "1           5                                GAMER           ...       1   \n",
       "2           6                                    WANTED      ...       1   \n",
       "3           7      2001: A SPACE ODYSSEY    Screenplay   by  ...       0   \n",
       "4           8                             CRUEL INTENTIONS   ...       3   \n",
       "\n",
       "                   title  year     imdbid  simple_bechdel  \n",
       "0                warrior  2011  1291584.0               0  \n",
       "1                  gamer  2009  1034032.0               0  \n",
       "2                 wanted  2008   493464.0               0  \n",
       "3  2001: a space odyssey  1968    62622.0               0  \n",
       "4       cruel intentions  1999   139134.0               1  "
      ]
     },
     "execution_count": 3,
     "metadata": {},
     "output_type": "execute_result"
    }
   ],
   "source": [
    "bechdel_df.head()"
   ]
  },
  {
   "cell_type": "markdown",
   "id": "stainless-wiring",
   "metadata": {},
   "source": [
    "Here we are going to keep the features that we are going to use going forward."
   ]
  },
  {
   "cell_type": "code",
   "execution_count": 4,
   "id": "racial-problem",
   "metadata": {},
   "outputs": [],
   "source": [
    "bechdel_df = bechdel_df[['textscript', 'title', 'simple_bechdel']]"
   ]
  },
  {
   "cell_type": "code",
   "execution_count": 5,
   "id": "lesser-novel",
   "metadata": {},
   "outputs": [
    {
     "data": {
      "text/html": [
       "<div>\n",
       "<style scoped>\n",
       "    .dataframe tbody tr th:only-of-type {\n",
       "        vertical-align: middle;\n",
       "    }\n",
       "\n",
       "    .dataframe tbody tr th {\n",
       "        vertical-align: top;\n",
       "    }\n",
       "\n",
       "    .dataframe thead th {\n",
       "        text-align: right;\n",
       "    }\n",
       "</style>\n",
       "<table border=\"1\" class=\"dataframe\">\n",
       "  <thead>\n",
       "    <tr style=\"text-align: right;\">\n",
       "      <th></th>\n",
       "      <th>textscript</th>\n",
       "      <th>title</th>\n",
       "      <th>simple_bechdel</th>\n",
       "    </tr>\n",
       "  </thead>\n",
       "  <tbody>\n",
       "    <tr>\n",
       "      <th>0</th>\n",
       "      <td>WARRIOR       ...</td>\n",
       "      <td>warrior</td>\n",
       "      <td>0</td>\n",
       "    </tr>\n",
       "    <tr>\n",
       "      <th>1</th>\n",
       "      <td>GAMER           ...</td>\n",
       "      <td>gamer</td>\n",
       "      <td>0</td>\n",
       "    </tr>\n",
       "    <tr>\n",
       "      <th>2</th>\n",
       "      <td>WANTED      ...</td>\n",
       "      <td>wanted</td>\n",
       "      <td>0</td>\n",
       "    </tr>\n",
       "    <tr>\n",
       "      <th>3</th>\n",
       "      <td>2001: A SPACE ODYSSEY    Screenplay   by  ...</td>\n",
       "      <td>2001: a space odyssey</td>\n",
       "      <td>0</td>\n",
       "    </tr>\n",
       "    <tr>\n",
       "      <th>4</th>\n",
       "      <td>CRUEL INTENTIONS   ...</td>\n",
       "      <td>cruel intentions</td>\n",
       "      <td>1</td>\n",
       "    </tr>\n",
       "  </tbody>\n",
       "</table>\n",
       "</div>"
      ],
      "text/plain": [
       "                                          textscript                  title  \\\n",
       "0                                  WARRIOR       ...                warrior   \n",
       "1                                GAMER           ...                  gamer   \n",
       "2                                    WANTED      ...                 wanted   \n",
       "3      2001: A SPACE ODYSSEY    Screenplay   by  ...  2001: a space odyssey   \n",
       "4                             CRUEL INTENTIONS   ...       cruel intentions   \n",
       "\n",
       "   simple_bechdel  \n",
       "0               0  \n",
       "1               0  \n",
       "2               0  \n",
       "3               0  \n",
       "4               1  "
      ]
     },
     "execution_count": 5,
     "metadata": {},
     "output_type": "execute_result"
    }
   ],
   "source": [
    "bechdel_df.head()"
   ]
  },
  {
   "cell_type": "code",
   "execution_count": 6,
   "id": "sweet-desire",
   "metadata": {},
   "outputs": [
    {
     "data": {
      "text/html": [
       "<div>\n",
       "<style scoped>\n",
       "    .dataframe tbody tr th:only-of-type {\n",
       "        vertical-align: middle;\n",
       "    }\n",
       "\n",
       "    .dataframe tbody tr th {\n",
       "        vertical-align: top;\n",
       "    }\n",
       "\n",
       "    .dataframe thead th {\n",
       "        text-align: right;\n",
       "    }\n",
       "</style>\n",
       "<table border=\"1\" class=\"dataframe\">\n",
       "  <thead>\n",
       "    <tr style=\"text-align: right;\">\n",
       "      <th></th>\n",
       "      <th>textscript</th>\n",
       "      <th>simple_bechdel</th>\n",
       "    </tr>\n",
       "    <tr>\n",
       "      <th>title</th>\n",
       "      <th></th>\n",
       "      <th></th>\n",
       "    </tr>\n",
       "  </thead>\n",
       "  <tbody>\n",
       "    <tr>\n",
       "      <th>warrior</th>\n",
       "      <td>WARRIOR       ...</td>\n",
       "      <td>0</td>\n",
       "    </tr>\n",
       "    <tr>\n",
       "      <th>gamer</th>\n",
       "      <td>GAMER           ...</td>\n",
       "      <td>0</td>\n",
       "    </tr>\n",
       "    <tr>\n",
       "      <th>wanted</th>\n",
       "      <td>WANTED      ...</td>\n",
       "      <td>0</td>\n",
       "    </tr>\n",
       "    <tr>\n",
       "      <th>2001: a space odyssey</th>\n",
       "      <td>2001: A SPACE ODYSSEY    Screenplay   by  ...</td>\n",
       "      <td>0</td>\n",
       "    </tr>\n",
       "    <tr>\n",
       "      <th>cruel intentions</th>\n",
       "      <td>CRUEL INTENTIONS   ...</td>\n",
       "      <td>1</td>\n",
       "    </tr>\n",
       "    <tr>\n",
       "      <th>...</th>\n",
       "      <td>...</td>\n",
       "      <td>...</td>\n",
       "    </tr>\n",
       "    <tr>\n",
       "      <th>shakespeare in love</th>\n",
       "      <td>SHAKESPEARE IN LOVE ...</td>\n",
       "      <td>1</td>\n",
       "    </tr>\n",
       "    <tr>\n",
       "      <th>surrogates</th>\n",
       "      <td>SURROGATES  ...</td>\n",
       "      <td>0</td>\n",
       "    </tr>\n",
       "    <tr>\n",
       "      <th>smashed</th>\n",
       "      <td>SMASHED         ...</td>\n",
       "      <td>1</td>\n",
       "    </tr>\n",
       "    <tr>\n",
       "      <th>we own the night</th>\n",
       "      <td>WE OWN THE NI...</td>\n",
       "      <td>0</td>\n",
       "    </tr>\n",
       "    <tr>\n",
       "      <th>misery</th>\n",
       "      <td>MISER...</td>\n",
       "      <td>0</td>\n",
       "    </tr>\n",
       "  </tbody>\n",
       "</table>\n",
       "<p>431 rows × 2 columns</p>\n",
       "</div>"
      ],
      "text/plain": [
       "                                                              textscript  \\\n",
       "title                                                                      \n",
       "warrior                                                WARRIOR       ...   \n",
       "gamer                                                GAMER           ...   \n",
       "wanted                                                   WANTED      ...   \n",
       "2001: a space odyssey      2001: A SPACE ODYSSEY    Screenplay   by  ...   \n",
       "cruel intentions                                  CRUEL INTENTIONS   ...   \n",
       "...                                                                  ...   \n",
       "shakespeare in love                              SHAKESPEARE IN LOVE ...   \n",
       "surrogates                                               SURROGATES  ...   \n",
       "smashed                                              SMASHED         ...   \n",
       "we own the night                                        WE OWN THE NI...   \n",
       "misery                                                          MISER...   \n",
       "\n",
       "                       simple_bechdel  \n",
       "title                                  \n",
       "warrior                             0  \n",
       "gamer                               0  \n",
       "wanted                              0  \n",
       "2001: a space odyssey               0  \n",
       "cruel intentions                    1  \n",
       "...                               ...  \n",
       "shakespeare in love                 1  \n",
       "surrogates                          0  \n",
       "smashed                             1  \n",
       "we own the night                    0  \n",
       "misery                              0  \n",
       "\n",
       "[431 rows x 2 columns]"
      ]
     },
     "execution_count": 6,
     "metadata": {},
     "output_type": "execute_result"
    }
   ],
   "source": [
    "bechdel_df.set_index('title')"
   ]
  },
  {
   "cell_type": "code",
   "execution_count": 6,
   "id": "important-australian",
   "metadata": {},
   "outputs": [],
   "source": [
    "# Derya Gumustel and Amir Semsarzadeh helped out and we created a function to do a lot of RegEx cleaning\n",
    "def clean_this_data_please(df):\n",
    "    # remove those NaNs\n",
    "    clean_df = df\n",
    "    clean_df.replace(r'[^a-zA-Z ]\\s?',' ',regex=True, inplace=True)\n",
    "    clean_df.replace(np.nan, \" \", regex=True, inplace=True)\n",
    "    # remove links\n",
    "    clean_df.replace('http[s]?://(?:[a-zA-Z]|[0-9]|[$-_@.&+]|[!*\\(\\),]|(?:%[0-9a-fA-F][0-9a-fA-F]))+', ' ', regex=True, inplace=True)\n",
    "    # remove digits, '&amp;', and forward slashes\n",
    "    clean_df.replace('\\d+', '', regex=True, inplace=True) # help from Amir! \n",
    "    clean_df.replace('&amp;', ' ', regex=True, inplace=True)\n",
    "    clean_df.replace('/', ' ', regex=True, inplace=True)\n",
    "    # remove new line characters\n",
    "    clean_df.replace(to_replace=[r'\\\\t|\\\\n|\\\\r', '\\t|\\n|\\r'], value=[' ',' '], regex=True, inplace=True)\n",
    "    #gotta remove [removed]\n",
    "    df.replace(r'removed', \" \", regex=True, inplace=True)\n",
    "    return clean_df"
   ]
  },
  {
   "cell_type": "markdown",
   "id": "later-appearance",
   "metadata": {},
   "source": [
    "#### We have some additional stop words that need to be removed:\n",
    "\n",
    "I am going to include these below"
   ]
  },
  {
   "cell_type": "code",
   "execution_count": 11,
   "id": "photographic-suite",
   "metadata": {},
   "outputs": [],
   "source": [
    "extra_stop_words = ['ve', 'https', 'reddit', 'imgur', 'amp', 'png', 'format', 'www', 'com', 'jpg', 'org', 'http', 'wiki', 'poll', 'pjpg', 'webp',\n",
    "                   'youtube', 'hn', 'pzo', 'season', 'watch', 'watching', 'watched', 'series', 'think', 'just', 'scene', 'know', 'time', 'episode',\n",
    "                   'like', 'did']"
   ]
  },
  {
   "cell_type": "code",
   "execution_count": 12,
   "id": "standing-consequence",
   "metadata": {},
   "outputs": [],
   "source": [
    "stop_words = text.ENGLISH_STOP_WORDS.union(extra_stop_words)"
   ]
  },
  {
   "cell_type": "code",
   "execution_count": 8,
   "id": "parliamentary-reply",
   "metadata": {},
   "outputs": [],
   "source": [
    "bechdel_cvec = CountVectorizer(stop_words= 'english')"
   ]
  },
  {
   "cell_type": "code",
   "execution_count": 9,
   "id": "still-quest",
   "metadata": {},
   "outputs": [],
   "source": [
    "count_bechdel_cvec = bechdel_cvec.fit_transform(bechdel_df['textscript'])"
   ]
  },
  {
   "cell_type": "code",
   "execution_count": 10,
   "id": "transparent-jungle",
   "metadata": {},
   "outputs": [
    {
     "data": {
      "text/plain": [
       "<431x144991 sparse matrix of type '<class 'numpy.int64'>'\n",
       "\twith 1427507 stored elements in Compressed Sparse Row format>"
      ]
     },
     "execution_count": 10,
     "metadata": {},
     "output_type": "execute_result"
    }
   ],
   "source": [
    "count_bechdel_cvec"
   ]
  },
  {
   "cell_type": "code",
   "execution_count": 11,
   "id": "central-latter",
   "metadata": {},
   "outputs": [],
   "source": [
    "count_bechdel_cvec_df = pd.DataFrame(count_bechdel_cvec.todense(), columns=bechdel_cvec.get_feature_names())"
   ]
  },
  {
   "cell_type": "code",
   "execution_count": 12,
   "id": "modular-vision",
   "metadata": {},
   "outputs": [
    {
     "data": {
      "text/plain": [
       "int          35938\n",
       "don          27831\n",
       "just         26614\n",
       "like         26565\n",
       "looks        26383\n",
       "know         24707\n",
       "day          22261\n",
       "ext          21944\n",
       "cont         19206\n",
       "room         19083\n",
       "door         19045\n",
       "night        18002\n",
       "ll           17439\n",
       "man          16179\n",
       "right        16168\n",
       "look         15846\n",
       "continued    15832\n",
       "away         13761\n",
       "turns        13365\n",
       "got          13257\n",
       "ve           12795\n",
       "going        12736\n",
       "eyes         12723\n",
       "time         12692\n",
       "face         12520\n",
       "dtype: int64"
      ]
     },
     "execution_count": 12,
     "metadata": {},
     "output_type": "execute_result"
    }
   ],
   "source": [
    "count_bechdel_cvec_df.sum().sort_values(ascending=False).head(25)"
   ]
  },
  {
   "cell_type": "markdown",
   "id": "driven-neighbor",
   "metadata": {},
   "source": [
    "# Exploratory Data Analysis\n",
    "\n",
    "We'll get some charts going here for everyone to enjoy."
   ]
  },
  {
   "cell_type": "code",
   "execution_count": 13,
   "id": "nutritional-transaction",
   "metadata": {},
   "outputs": [
    {
     "data": {
      "image/png": "[encoded data removed]",
      "text/plain": [
       "<Figure size 1152x864 with 1 Axes>"
      ]
     },
     "metadata": {
      "needs_background": "light"
     },
     "output_type": "display_data"
    }
   ],
   "source": [
    "plt.figure(figsize=(16,12))\n",
    "plt.title('25 Most Common Words across all screenplays')\n",
    "count_bechdel_cvec_df.sum().sort_values(ascending=False).head(25).plot(kind='barh');"
   ]
  },
  {
   "cell_type": "markdown",
   "id": "funded-observer",
   "metadata": {},
   "source": [
    "#### Bigram time!\n",
    "\n",
    "Here we are looking at bigrams to see the different two word combos."
   ]
  },
  {
   "cell_type": "code",
   "execution_count": 14,
   "id": "opposed-regular",
   "metadata": {},
   "outputs": [
    {
     "data": {
      "text/plain": [
       "<431x3174370 sparse matrix of type '<class 'numpy.int64'>'\n",
       "\twith 4493136 stored elements in Compressed Sparse Row format>"
      ]
     },
     "execution_count": 14,
     "metadata": {},
     "output_type": "execute_result"
    }
   ],
   "source": [
    "bigram_bechdel = CountVectorizer(ngram_range=(2,2), stop_words='english')\n",
    "bigram_bechdel_x = bigram_bechdel.fit_transform(bechdel_df['textscript'])\n",
    "bigram_bechdel_x"
   ]
  },
  {
   "cell_type": "code",
   "execution_count": 15,
   "id": "organic-stewart",
   "metadata": {},
   "outputs": [],
   "source": [
    "bigram_bechdel_df = pd.DataFrame(bigram_bechdel_x.todense(), columns=bigram_bechdel.get_feature_names())"
   ]
  },
  {
   "cell_type": "code",
   "execution_count": 17,
   "id": "interesting-deployment",
   "metadata": {},
   "outputs": [
    {
     "data": {
      "image/png": "[encoded data removed]",
      "text/plain": [
       "<Figure size 1152x864 with 1 Axes>"
      ]
     },
     "metadata": {
      "needs_background": "light"
     },
     "output_type": "display_data"
    }
   ],
   "source": [
    "plt.figure(figsize=(16,12))\n",
    "plt.title('25 Most Common bigrams across screenplays', fontdict={'fontsize':18})\n",
    "bigram_bechdel_df.sum().sort_values(ascending=False).head(25).plot(kind='barh');"
   ]
  },
  {
   "cell_type": "markdown",
   "id": "signed-greek",
   "metadata": {},
   "source": [
    "### Let's explore the data through some trigrams:\n",
    "\n",
    "I think the combination of words into phrases could be useful here."
   ]
  },
  {
   "cell_type": "code",
   "execution_count": 31,
   "id": "impressive-adrian",
   "metadata": {},
   "outputs": [
    {
     "data": {
      "text/plain": [
       "<3000x56233 sparse matrix of type '<class 'numpy.int64'>'\n",
       "\twith 57564 stored elements in Compressed Sparse Row format>"
      ]
     },
     "execution_count": 31,
     "metadata": {},
     "output_type": "execute_result"
    }
   ],
   "source": [
    "trigram_madmen = CountVectorizer(ngram_range=(3,3), stop_words=stop_words)\n",
    "trigram_madmen_x = trigram_madmen.fit_transform(madmen_df['total_text'])\n",
    "trigram_madmen_x"
   ]
  },
  {
   "cell_type": "code",
   "execution_count": 32,
   "id": "military-testing",
   "metadata": {},
   "outputs": [],
   "source": [
    "trigram_madmen_df = pd.DataFrame(trigram_madmen_x.todense(), columns=trigram_madmen.get_feature_names())"
   ]
  },
  {
   "cell_type": "code",
   "execution_count": 33,
   "id": "ultimate-ready",
   "metadata": {},
   "outputs": [
    {
     "data": {
      "image/png": "[encoded data removed]",
      "text/plain": [
       "<Figure size 1152x864 with 1 Axes>"
      ]
     },
     "metadata": {
      "needs_background": "light"
     },
     "output_type": "display_data"
    }
   ],
   "source": [
    "plt.figure(figsize=(16,12))\n",
    "plt.title('25 Most Common trigrams in Mad Men subreddit')\n",
    "trigram_madmen_df.sum().sort_values(ascending=False).head(25).plot(kind='barh');"
   ]
  },
  {
   "cell_type": "markdown",
   "id": "unlike-sustainability",
   "metadata": {},
   "source": [
    "And now let's do some of this for The Sopranos too now."
   ]
  },
  {
   "cell_type": "code",
   "execution_count": 34,
   "id": "polyphonic-slave",
   "metadata": {},
   "outputs": [
    {
     "data": {
      "text/plain": [
       "<3000x72998 sparse matrix of type '<class 'numpy.int64'>'\n",
       "\twith 74199 stored elements in Compressed Sparse Row format>"
      ]
     },
     "execution_count": 34,
     "metadata": {},
     "output_type": "execute_result"
    }
   ],
   "source": [
    "trigram_sopranos = CountVectorizer(ngram_range=(3,3), stop_words=stop_words)\n",
    "trigram_sopranos_x = trigram_sopranos.fit_transform(sopranos_df['total_text'])\n",
    "trigram_sopranos_x"
   ]
  },
  {
   "cell_type": "code",
   "execution_count": 35,
   "id": "aggressive-graphics",
   "metadata": {},
   "outputs": [],
   "source": [
    "trigram_sopranos_df = pd.DataFrame(trigram_sopranos_x.todense(), columns=trigram_sopranos.get_feature_names())"
   ]
  },
  {
   "cell_type": "code",
   "execution_count": 36,
   "id": "powerful-sacramento",
   "metadata": {},
   "outputs": [
    {
     "data": {
      "image/png": "[encoded data removed]",
      "text/plain": [
       "<Figure size 1152x864 with 1 Axes>"
      ]
     },
     "metadata": {
      "needs_background": "light"
     },
     "output_type": "display_data"
    }
   ],
   "source": [
    "plt.figure(figsize=(16,12))\n",
    "plt.title('25 Most Common trigrams in The Sopranos subreddit')\n",
    "trigram_sopranos_df.sum().sort_values(ascending=False).head(25).plot(kind='barh');"
   ]
  },
  {
   "cell_type": "markdown",
   "id": "sound-train",
   "metadata": {},
   "source": [
    "Exploring bigrams and trigrams gave some much needed insight into our data and what is common and different between the two subreddits. I ran these bigrams and trigrams multiple times, adding to my list of stop words with each iteration until arriving at the graphs that you see above. "
   ]
  },
  {
   "cell_type": "markdown",
   "id": "threaded-skiing",
   "metadata": {},
   "source": [
    "# The Modeling Begins!"
   ]
  },
  {
   "cell_type": "code",
   "execution_count": 18,
   "id": "civil-facility",
   "metadata": {},
   "outputs": [],
   "source": [
    "X = bechdel_df['textscript']\n",
    "y = bechdel_df['simple_bechdel']\n",
    "\n",
    "# Split the data into the training and testing sets.\n",
    "X_train, X_test, y_train, y_test = train_test_split(X,y, random_state=42)"
   ]
  },
  {
   "cell_type": "code",
   "execution_count": 19,
   "id": "daily-property",
   "metadata": {},
   "outputs": [],
   "source": [
    "pipe = Pipeline([\n",
    "    ('cvec', CountVectorizer(stop_words='english')),\n",
    "    ('logreg', LogisticRegression())\n",
    "        \n",
    "])"
   ]
  },
  {
   "cell_type": "code",
   "execution_count": 20,
   "id": "personal-driving",
   "metadata": {},
   "outputs": [
    {
     "data": {
      "text/plain": [
       "Pipeline(steps=[('cvec', CountVectorizer(stop_words='english')),\n",
       "                ('logreg', LogisticRegression())])"
      ]
     },
     "execution_count": 20,
     "metadata": {},
     "output_type": "execute_result"
    }
   ],
   "source": [
    "pipe.fit(X_train, y_train)"
   ]
  },
  {
   "cell_type": "code",
   "execution_count": 21,
   "id": "united-nebraska",
   "metadata": {},
   "outputs": [
    {
     "data": {
      "text/plain": [
       "1.0"
      ]
     },
     "execution_count": 21,
     "metadata": {},
     "output_type": "execute_result"
    }
   ],
   "source": [
    "pipe.score(X_train, y_train)"
   ]
  },
  {
   "cell_type": "code",
   "execution_count": 22,
   "id": "juvenile-approval",
   "metadata": {},
   "outputs": [
    {
     "data": {
      "text/plain": [
       "0.48148148148148145"
      ]
     },
     "execution_count": 22,
     "metadata": {},
     "output_type": "execute_result"
    }
   ],
   "source": [
    "pipe.score(X_test, y_test)"
   ]
  },
  {
   "cell_type": "markdown",
   "id": "differential-rental",
   "metadata": {},
   "source": [
    "1?!?! It appears my model is overfit. I am curious as to what is causing the difference."
   ]
  },
  {
   "cell_type": "code",
   "execution_count": 23,
   "id": "quality-mouth",
   "metadata": {},
   "outputs": [],
   "source": [
    "preds = pipe.predict(X_test)"
   ]
  },
  {
   "cell_type": "code",
   "execution_count": 25,
   "id": "pregnant-trace",
   "metadata": {},
   "outputs": [
    {
     "data": {
      "image/png": "[encoded data removed]",
      "text/plain": [
       "<Figure size 432x288 with 2 Axes>"
      ]
     },
     "metadata": {
      "needs_background": "light"
     },
     "output_type": "display_data"
    }
   ],
   "source": [
    "cm = confusion_matrix(y_test, preds)\n",
    "tn, fp, fn, tp = cm.ravel()\n",
    "ConfusionMatrixDisplay(cm).plot()\n",
    "plt.title('cvec logreg Confusion Matrix');"
   ]
  },
  {
   "cell_type": "code",
   "execution_count": 26,
   "id": "spoken-ebony",
   "metadata": {},
   "outputs": [
    {
     "name": "stdout",
     "output_type": "stream",
     "text": [
      "              precision    recall  f1-score   support\n",
      "\n",
      "           0       0.49      0.49      0.49        55\n",
      "           1       0.47      0.47      0.47        53\n",
      "\n",
      "    accuracy                           0.48       108\n",
      "   macro avg       0.48      0.48      0.48       108\n",
      "weighted avg       0.48      0.48      0.48       108\n",
      "\n"
     ]
    }
   ],
   "source": [
    "print(classification_report(y_test, preds))"
   ]
  },
  {
   "cell_type": "markdown",
   "id": "naval-canvas",
   "metadata": {},
   "source": [
    "#### Let's try out another model: TfidfVectorizer with Bernoulli Naive Bayes"
   ]
  },
  {
   "cell_type": "code",
   "execution_count": 28,
   "id": "ranging-candidate",
   "metadata": {},
   "outputs": [],
   "source": [
    "pipe_tvec_nb = Pipeline([\n",
    "    ('tvec', TfidfVectorizer(stop_words='english')),\n",
    "    ('nb', BernoulliNB())\n",
    "])"
   ]
  },
  {
   "cell_type": "code",
   "execution_count": 29,
   "id": "traditional-drilling",
   "metadata": {},
   "outputs": [
    {
     "data": {
      "text/plain": [
       "Pipeline(steps=[('tvec', TfidfVectorizer(stop_words='english')),\n",
       "                ('nb', BernoulliNB())])"
      ]
     },
     "execution_count": 29,
     "metadata": {},
     "output_type": "execute_result"
    }
   ],
   "source": [
    "pipe_tvec_nb.fit(X_train, y_train)"
   ]
  },
  {
   "cell_type": "code",
   "execution_count": 30,
   "id": "comparative-edinburgh",
   "metadata": {},
   "outputs": [
    {
     "data": {
      "text/plain": [
       "0.978328173374613"
      ]
     },
     "execution_count": 30,
     "metadata": {},
     "output_type": "execute_result"
    }
   ],
   "source": [
    "pipe_tvec_nb.score(X_train, y_train)"
   ]
  },
  {
   "cell_type": "code",
   "execution_count": 31,
   "id": "turned-firmware",
   "metadata": {},
   "outputs": [
    {
     "data": {
      "text/plain": [
       "0.5277777777777778"
      ]
     },
     "execution_count": 31,
     "metadata": {},
     "output_type": "execute_result"
    }
   ],
   "source": [
    "pipe_tvec_nb.score(X_test, y_test)"
   ]
  },
  {
   "cell_type": "markdown",
   "id": "intimate-bottle",
   "metadata": {},
   "source": [
    "Well, this is better than the information from the logistic regression and count vectorizer. At least we are now in the MVP territory!"
   ]
  },
  {
   "cell_type": "code",
   "execution_count": 32,
   "id": "bronze-crest",
   "metadata": {},
   "outputs": [],
   "source": [
    "pipe_tvec_nb_preds = pipe_tvec_nb.predict(X_test)"
   ]
  },
  {
   "cell_type": "code",
   "execution_count": 33,
   "id": "widespread-loading",
   "metadata": {},
   "outputs": [
    {
     "data": {
      "image/png": "[encoded data removed]",
      "text/plain": [
       "<Figure size 432x288 with 2 Axes>"
      ]
     },
     "metadata": {
      "needs_background": "light"
     },
     "output_type": "display_data"
    }
   ],
   "source": [
    "cm = confusion_matrix(y_test, pipe_tvec_nb_preds)\n",
    "tn, fp, fn, tp = cm.ravel()\n",
    "ConfusionMatrixDisplay(cm).plot()\n",
    "plt.title('tvec Bernoulli NB Confusion Matrix');"
   ]
  },
  {
   "cell_type": "code",
   "execution_count": 34,
   "id": "contemporary-switch",
   "metadata": {},
   "outputs": [
    {
     "name": "stdout",
     "output_type": "stream",
     "text": [
      "              precision    recall  f1-score   support\n",
      "\n",
      "           0       0.62      0.18      0.28        55\n",
      "           1       0.51      0.89      0.65        53\n",
      "\n",
      "    accuracy                           0.53       108\n",
      "   macro avg       0.57      0.53      0.46       108\n",
      "weighted avg       0.57      0.53      0.46       108\n",
      "\n"
     ]
    }
   ],
   "source": [
    "print(classification_report(y_test, pipe_tvec_nb_preds))"
   ]
  },
  {
   "cell_type": "markdown",
   "id": "portable-lewis",
   "metadata": {},
   "source": [
    "# Going with another model that involves gridsearch\n",
    "\n",
    "\n",
    "Okay I ran this once and it took hours. We cannot do this a second time. Please don't you dare do this a second time. What a waste."
   ]
  },
  {
   "cell_type": "code",
   "execution_count": 35,
   "id": "noble-savings",
   "metadata": {},
   "outputs": [],
   "source": [
    "pipe_knn = Pipeline([\n",
    "    ('cvec', CountVectorizer()),\n",
    "    ('knn', KNeighborsClassifier())\n",
    "])"
   ]
  },
  {
   "cell_type": "code",
   "execution_count": 36,
   "id": "spread-startup",
   "metadata": {},
   "outputs": [],
   "source": [
    "params = {\n",
    "    'knn__n_neighbors': range(1,100,2),\n",
    "    'knn__weights': ['uniform', 'distance'],\n",
    "    'knn__metric': ['euclidean', 'manhattan', 'chebyshev'],\n",
    "    'knn__algorithm': ['ball_tree', 'kd_tree', 'brute']\n",
    "}"
   ]
  },
  {
   "cell_type": "code",
   "execution_count": 37,
   "id": "split-scheme",
   "metadata": {},
   "outputs": [],
   "source": [
    "knn_gs = GridSearchCV(\n",
    "    pipe_knn,\n",
    "    params,\n",
    "    cv=5\n",
    ")"
   ]
  },
  {
   "cell_type": "code",
   "execution_count": 38,
   "id": "attractive-reproduction",
   "metadata": {
    "scrolled": true
   },
   "outputs": [
    {
     "data": {
      "text/plain": [
       "GridSearchCV(cv=5,\n",
       "             estimator=Pipeline(steps=[('cvec', CountVectorizer()),\n",
       "                                       ('knn', KNeighborsClassifier())]),\n",
       "             param_grid={'knn__algorithm': ['ball_tree', 'kd_tree', 'brute'],\n",
       "                         'knn__metric': ['euclidean', 'manhattan', 'chebyshev'],\n",
       "                         'knn__n_neighbors': range(1, 100, 2),\n",
       "                         'knn__weights': ['uniform', 'distance']})"
      ]
     },
     "execution_count": 38,
     "metadata": {},
     "output_type": "execute_result"
    }
   ],
   "source": [
    "knn_gs.fit(X_train, y_train)"
   ]
  },
  {
   "cell_type": "code",
   "execution_count": 39,
   "id": "otherwise-princeton",
   "metadata": {},
   "outputs": [
    {
     "data": {
      "text/plain": [
       "0.6070192307692308"
      ]
     },
     "execution_count": 39,
     "metadata": {},
     "output_type": "execute_result"
    }
   ],
   "source": [
    "knn_gs.best_score_"
   ]
  },
  {
   "cell_type": "code",
   "execution_count": 40,
   "id": "designed-apache",
   "metadata": {},
   "outputs": [
    {
     "data": {
      "text/plain": [
       "{'knn__algorithm': 'ball_tree',\n",
       " 'knn__metric': 'euclidean',\n",
       " 'knn__n_neighbors': 13,\n",
       " 'knn__weights': 'distance'}"
      ]
     },
     "execution_count": 40,
     "metadata": {},
     "output_type": "execute_result"
    }
   ],
   "source": [
    "knn_gs.best_params_"
   ]
  },
  {
   "cell_type": "code",
   "execution_count": 41,
   "id": "communist-refrigerator",
   "metadata": {},
   "outputs": [],
   "source": [
    "knn_gs_preds = knn_gs.predict(X_test)"
   ]
  },
  {
   "cell_type": "code",
   "execution_count": 42,
   "id": "specialized-courage",
   "metadata": {},
   "outputs": [
    {
     "name": "stdout",
     "output_type": "stream",
     "text": [
      "              precision    recall  f1-score   support\n",
      "\n",
      "           0       0.58      0.82      0.68        55\n",
      "           1       0.68      0.40      0.50        53\n",
      "\n",
      "    accuracy                           0.61       108\n",
      "   macro avg       0.63      0.61      0.59       108\n",
      "weighted avg       0.63      0.61      0.59       108\n",
      "\n"
     ]
    }
   ],
   "source": [
    "print(classification_report(y_test, knn_gs_preds))"
   ]
  },
  {
   "cell_type": "markdown",
   "id": "tamil-remedy",
   "metadata": {},
   "source": [
    "#### Another K-NN model made that did not include GridSearch this time around, as I kept running my models as I cleaned the data and added stop words to the list.\n",
    "\n",
    "This model was included in my presentation."
   ]
  },
  {
   "cell_type": "code",
   "execution_count": 44,
   "id": "amino-mayor",
   "metadata": {},
   "outputs": [],
   "source": [
    "pipe_knn_2 = Pipeline([\n",
    "    ('cvec', CountVectorizer(stop_words='english')),\n",
    "    ('knn', KNeighborsClassifier(n_neighbors=5))\n",
    "])"
   ]
  },
  {
   "cell_type": "code",
   "execution_count": 45,
   "id": "governmental-champagne",
   "metadata": {},
   "outputs": [
    {
     "data": {
      "text/plain": [
       "Pipeline(steps=[('cvec', CountVectorizer(stop_words='english')),\n",
       "                ('knn', KNeighborsClassifier())])"
      ]
     },
     "execution_count": 45,
     "metadata": {},
     "output_type": "execute_result"
    }
   ],
   "source": [
    "pipe_knn_2.fit(X_train, y_train)"
   ]
  },
  {
   "cell_type": "code",
   "execution_count": 46,
   "id": "proved-annex",
   "metadata": {},
   "outputs": [
    {
     "data": {
      "text/plain": [
       "0.5603715170278638"
      ]
     },
     "execution_count": 46,
     "metadata": {},
     "output_type": "execute_result"
    }
   ],
   "source": [
    "pipe_knn_2.score(X_train, y_train)"
   ]
  },
  {
   "cell_type": "code",
   "execution_count": 47,
   "id": "satellite-investment",
   "metadata": {},
   "outputs": [
    {
     "data": {
      "text/plain": [
       "0.5185185185185185"
      ]
     },
     "execution_count": 47,
     "metadata": {},
     "output_type": "execute_result"
    }
   ],
   "source": [
    "pipe_knn_2.score(X_test, y_test)"
   ]
  },
  {
   "cell_type": "code",
   "execution_count": 48,
   "id": "educated-aquarium",
   "metadata": {},
   "outputs": [],
   "source": [
    "knn_2_preds = pipe_knn_2.predict(X_test)"
   ]
  },
  {
   "cell_type": "code",
   "execution_count": 49,
   "id": "north-disability",
   "metadata": {},
   "outputs": [
    {
     "name": "stdout",
     "output_type": "stream",
     "text": [
      "              precision    recall  f1-score   support\n",
      "\n",
      "           0       0.51      0.98      0.67        55\n",
      "           1       0.67      0.04      0.07        53\n",
      "\n",
      "    accuracy                           0.52       108\n",
      "   macro avg       0.59      0.51      0.37       108\n",
      "weighted avg       0.59      0.52      0.38       108\n",
      "\n"
     ]
    }
   ],
   "source": [
    "print(classification_report(y_test, knn_2_preds))"
   ]
  },
  {
   "cell_type": "code",
   "execution_count": 51,
   "id": "cosmetic-bargain",
   "metadata": {},
   "outputs": [
    {
     "data": {
      "image/png": "[encoded data removed]",
      "text/plain": [
       "<Figure size 432x288 with 2 Axes>"
      ]
     },
     "metadata": {
      "needs_background": "light"
     },
     "output_type": "display_data"
    }
   ],
   "source": [
    "cm = confusion_matrix(y_test, knn_2_preds)\n",
    "tn, fp, fn, tp = cm.ravel()\n",
    "ConfusionMatrixDisplay(cm).plot()\n",
    "plt.title('cvec KNN Confusion Matrix');"
   ]
  },
  {
   "cell_type": "markdown",
   "id": "approximate-steal",
   "metadata": {},
   "source": [
    "This model has an incredibly bad recall score."
   ]
  }
 ],
 "metadata": {
  "kernelspec": {
   "display_name": "Python 3",
   "language": "python",
   "name": "python3"
  },
  "language_info": {
   "codemirror_mode": {
    "name": "ipython",
    "version": 3
   },
   "file_extension": ".py",
   "mimetype": "text/x-python",
   "name": "python",
   "nbconvert_exporter": "python",
   "pygments_lexer": "ipython3",
   "version": "3.8.8"
  }
 },
 "nbformat": 4,
 "nbformat_minor": 5
}
