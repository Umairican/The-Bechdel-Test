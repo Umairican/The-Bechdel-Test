{
 "cells": [
  {
   "cell_type": "markdown",
   "id": "stone-motivation",
   "metadata": {},
   "source": [
    "### Function of this code\n",
    "\n",
    "I found that os.rename was being difficult to work with outside of the directory in which the file is based, so I created the below function to be run separately within the Scripts directory.\n",
    "\n",
    "This code takes the first line of the txt file and then assigns that as the title of the file, since that is, in the vast majority of cases, the title of the screenplay.\n",
    "\n",
    "A few scripts had to be checked and renamed manually, which were highlighted by the below except statement."
   ]
  },
  {
   "cell_type": "code",
   "execution_count": 1,
   "id": "million-ballot",
   "metadata": {},
   "outputs": [],
   "source": [
    "import os"
   ]
  },
  {
   "cell_type": "code",
   "execution_count": 10,
   "id": "agricultural-gazette",
   "metadata": {},
   "outputs": [],
   "source": [
    "file_names = os.listdir('./')\n",
    "for file in file_names:\n",
    "    if not file.startswith('.'):\n",
    "        try: \n",
    "            with open(file) as f:\n",
    "                first_line = f.readline().strip()\n",
    "                os.rename(file, (str(first_line) + '.txt').upper())\n",
    "        except:\n",
    "            print(f'{file} could not be renamed. Please check manually')"
   ]
  },
  {
   "cell_type": "markdown",
   "id": "major-infrastructure",
   "metadata": {},
   "source": [
    "### Manual Cleaning\n",
    "\n",
    "I know that this is not the most pythonic method in the world, renaming a few files, and cleaning up any of the names with superfluous material (words like \"shooting script\" or \"early draft\"), but it did not take much time and has made this entire dataset of 2,827 scripts much more readable."
   ]
  }
 ],
 "metadata": {
  "kernelspec": {
   "display_name": "Python 3",
   "language": "python",
   "name": "python3"
  },
  "language_info": {
   "codemirror_mode": {
    "name": "ipython",
    "version": 3
   },
   "file_extension": ".py",
   "mimetype": "text/x-python",
   "name": "python",
   "nbconvert_exporter": "python",
   "pygments_lexer": "ipython3",
   "version": "3.8.8"
  }
 },
 "nbformat": 4,
 "nbformat_minor": 5
}
